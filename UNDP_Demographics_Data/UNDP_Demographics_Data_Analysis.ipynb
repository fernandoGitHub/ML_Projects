{
  "nbformat": 4,
  "nbformat_minor": 0,
  "metadata": {
    "colab": {
      "name": "UNDP_Demographics_Data-Analysis.ipynb",
      "provenance": [],
      "authorship_tag": "ABX9TyNy/pTuqPAHeYsXPoNr6qNd",
      "include_colab_link": true
    },
    "kernelspec": {
      "name": "python3",
      "display_name": "Python 3"
    },
    "language_info": {
      "name": "python"
    }
  },
  "cells": [
    {
      "cell_type": "markdown",
      "metadata": {
        "id": "view-in-github",
        "colab_type": "text"
      },
      "source": [
        "<a href=\"https://colab.research.google.com/github/fernandoGitHub/ML_Projects/blob/main/UNDP_Demographics_Data/UNDP_Demographics_Data_Analysis.ipynb\" target=\"_parent\"><img src=\"https://colab.research.google.com/assets/colab-badge.svg\" alt=\"Open In Colab\"/></a>"
      ]
    },
    {
      "cell_type": "markdown",
      "source": [
        "# Setup"
      ],
      "metadata": {
        "id": "HNu8v-HprdvD"
      }
    },
    {
      "cell_type": "code",
      "execution_count": 1,
      "metadata": {
        "colab": {
          "base_uri": "https://localhost:8080/"
        },
        "id": "9QW-bJuyqnhA",
        "outputId": "75c314e5-c121-4da9-ea5d-54bacdbb90dd"
      },
      "outputs": [
        {
          "output_type": "stream",
          "name": "stdout",
          "text": [
            "--2022-05-15 05:37:41--  https://raw.githubusercontent.com/fernandoGitHub/MLOPS_GSD/main/MLOP_setup.py\n",
            "Resolving raw.githubusercontent.com (raw.githubusercontent.com)... 185.199.109.133, 185.199.110.133, 185.199.108.133, ...\n",
            "Connecting to raw.githubusercontent.com (raw.githubusercontent.com)|185.199.109.133|:443... connected.\n",
            "HTTP request sent, awaiting response... 200 OK\n",
            "Length: 2176 (2.1K) [text/plain]\n",
            "Saving to: ‘MLOP_setup.py’\n",
            "\n",
            "\rMLOP_setup.py         0%[                    ]       0  --.-KB/s               \rMLOP_setup.py       100%[===================>]   2.12K  --.-KB/s    in 0s      \n",
            "\n",
            "2022-05-15 05:37:41 (41.4 MB/s) - ‘MLOP_setup.py’ saved [2176/2176]\n",
            "\n"
          ]
        }
      ],
      "source": [
        "!wget https://raw.githubusercontent.com/fernandoGitHub/MLOPS_GSD/main/MLOP_setup.py"
      ]
    },
    {
      "cell_type": "code",
      "source": [
        "import MLOP_setup\n",
        "\n",
        "MLOP_setup.install_package('TF_DATA_VALIDATION')\n",
        "MLOP_setup.install_package('TF_TRANSFORM')\n",
        "MLOP_setup.install_package('TFX')"
      ],
      "metadata": {
        "id": "itm_AmTlrpfJ",
        "outputId": "5b04a227-2b0d-4587-a9d1-a3ccbf1c969b",
        "colab": {
          "base_uri": "https://localhost:8080/"
        }
      },
      "execution_count": 2,
      "outputs": [
        {
          "output_type": "stream",
          "name": "stdout",
          "text": [
            "Installing tensorflow-data-validation ...\n",
            "Package tensorflow-data-validation has been successfully installed\n",
            "Reloading Packages\n",
            "Installing tensorflow-transform ...\n",
            "Package tensorflow-transform has been successfully installed\n",
            "Reloading Packages\n",
            "Installing tfx ...\n",
            "Package tfx has been successfully installed\n",
            "Reloading Packages\n"
          ]
        }
      ]
    },
    {
      "cell_type": "code",
      "source": [
        "import tensorflow as tf\n",
        "import tensorflow_data_validation as tfdv\n",
        "\n",
        "from tfx import v1 as tfx\n",
        "from tfx.types import standard_artifacts\n",
        "from tfx.orchestration.experimental.interactive.interactive_context import InteractiveContext\n",
        "from google.protobuf.json_format import MessageToDict\n",
        "from tensorflow_metadata.proto.v0 import schema_pb2\n",
        "\n",
        "import os\n",
        "import pprint\n",
        "pp = pprint.PrettyPrinter()\n",
        "\n",
        "import pandas as pd"
      ],
      "metadata": {
        "id": "x_i_KN4KrsT8"
      },
      "execution_count": 3,
      "outputs": []
    },
    {
      "cell_type": "code",
      "source": [
        "MLOP_setup.load_and_import_TF_libraries()\n",
        "\n",
        "import TF_pipeline\n",
        "import TF_schema"
      ],
      "metadata": {
        "id": "GkyqtBa1r314",
        "outputId": "22242c12-2efe-44fc-f676-96d680353f63",
        "colab": {
          "base_uri": "https://localhost:8080/"
        }
      },
      "execution_count": 4,
      "outputs": [
        {
          "output_type": "stream",
          "name": "stdout",
          "text": [
            "Installing wget ...\n",
            "Package wget has been successfully installed\n",
            "Reloading Packages\n",
            "Fetching from GitHub: TF_pipeline.py ...\n",
            "Fetching from GitHub: TF_stat.py ...\n",
            "Fetching from GitHub: TF_transform.py ...\n",
            "Fetching from GitHub: TF_schema.py ...\n"
          ]
        }
      ]
    },
    {
      "cell_type": "markdown",
      "source": [
        "# Data Preparation"
      ],
      "metadata": {
        "id": "rHiOu2jysJvf"
      }
    },
    {
      "cell_type": "code",
      "source": [
        "import os\n",
        "import shutil\n",
        "\n",
        "_RAW_DATA_DIR = './raw_data'\n",
        "_RAW_DATA_ZIP = os.path.join(_RAW_DATA_DIR, 'UNDP_Demographics_Data.zip')\n",
        "\n",
        "if os.path.isdir('./sample_data'):\n",
        "  shutil.rmtree('./sample_data')\n",
        "\n",
        "if not os.path.isdir(_RAW_DATA_DIR):\n",
        "  os.makedirs(_RAW_DATA_DIR)\n",
        "\n",
        "if not os.path.isfile(_RAW_DATA_ZIP):\n",
        "  !wget -O ./raw_data/UNDP_Demographics_Data.zip https://github.com/fernandoGitHub/ML_Projects/raw/main/UNDP_Demographics_Data/data/UNDP_Demographics_Data.zip"
      ],
      "metadata": {
        "id": "BpPOuGqLsMpO",
        "outputId": "363bf660-ebed-48af-d836-f78190cb0e27",
        "colab": {
          "base_uri": "https://localhost:8080/"
        }
      },
      "execution_count": 5,
      "outputs": [
        {
          "output_type": "stream",
          "name": "stdout",
          "text": [
            "--2022-05-15 05:39:24--  https://github.com/fernandoGitHub/ML_Projects/raw/main/UNDP_Demographics_Data/data/UNDP_Demographics_Data.zip\n",
            "Resolving github.com (github.com)... 140.82.113.4\n",
            "Connecting to github.com (github.com)|140.82.113.4|:443... connected.\n",
            "HTTP request sent, awaiting response... 302 Found\n",
            "Location: https://raw.githubusercontent.com/fernandoGitHub/ML_Projects/main/UNDP_Demographics_Data/data/UNDP_Demographics_Data.zip [following]\n",
            "--2022-05-15 05:39:24--  https://raw.githubusercontent.com/fernandoGitHub/ML_Projects/main/UNDP_Demographics_Data/data/UNDP_Demographics_Data.zip\n",
            "Resolving raw.githubusercontent.com (raw.githubusercontent.com)... 185.199.108.133, 185.199.111.133, 185.199.110.133, ...\n",
            "Connecting to raw.githubusercontent.com (raw.githubusercontent.com)|185.199.108.133|:443... connected.\n",
            "HTTP request sent, awaiting response... 200 OK\n",
            "Length: 44345 (43K) [application/zip]\n",
            "Saving to: ‘./raw_data/UNDP_Demographics_Data.zip’\n",
            "\n",
            "./raw_data/UNDP_Dem 100%[===================>]  43.31K  --.-KB/s    in 0.01s   \n",
            "\n",
            "2022-05-15 05:39:24 (4.36 MB/s) - ‘./raw_data/UNDP_Demographics_Data.zip’ saved [44345/44345]\n",
            "\n"
          ]
        }
      ]
    },
    {
      "cell_type": "code",
      "source": [
        "from zipfile import ZipFile\n",
        "\n",
        "zip_file_name = _RAW_DATA_ZIP\n",
        "\n",
        "with ZipFile(zip_file_name, 'r') as zip:\n",
        "  # printing all the contents of the zip file\n",
        "  zip.printdir()\n",
        "\n",
        "  # extracting all the files\n",
        "  zip.extractall(_RAW_DATA_DIR)"
      ],
      "metadata": {
        "id": "ViUmSG8LvlOD",
        "outputId": "ff4b4c5d-0aa9-4d50-ef94-18647e8069fc",
        "colab": {
          "base_uri": "https://localhost:8080/"
        }
      },
      "execution_count": 6,
      "outputs": [
        {
          "output_type": "stream",
          "name": "stdout",
          "text": [
            "File Name                                             Modified             Size\n",
            "Median_age.csv                                 2022-05-13 15:11:54         9288\n",
            "Old_age_dependency_ratio.csv                   2022-05-13 15:11:54        14159\n",
            "Population _ages_65 _and _older.csv            2022-05-13 15:11:54        12651\n",
            "Population_ages_15_64.csv                      2022-05-13 15:11:54        14059\n",
            "Population_under_age_5.csv                     2022-05-13 15:11:54        12955\n",
            "Sex_ratio_at_birth.csv                         2022-05-13 15:11:54         9570\n",
            "Total_Population.csv                           2022-05-13 15:11:54        15523\n",
            "Urban_Population.csv                           2022-05-13 15:11:54        16114\n",
            "Young_age_dependency_ratio.csv                 2022-05-13 15:11:54        15756\n"
          ]
        }
      ]
    },
    {
      "cell_type": "markdown",
      "source": [
        "# Dataset Preparation"
      ],
      "metadata": {
        "id": "ZkBwhAoMybIo"
      }
    },
    {
      "cell_type": "code",
      "source": [
        "csv_list = os.listdir(path=_RAW_DATA_DIR)\n",
        "\n",
        "csv_list = [file for file in csv_list if '.csv' in file]"
      ],
      "metadata": {
        "id": "rpNpA7mSygFk"
      },
      "execution_count": 7,
      "outputs": []
    },
    {
      "cell_type": "code",
      "source": [
        "def create_dataset_by_year(year):\n",
        "\n",
        "  first = True\n",
        "  for csv_file in csv_list:\n",
        "    csv_path = os.path.join(_RAW_DATA_DIR, csv_file)\n",
        "    df = pd.read_csv(csv_path)[['Country', year]]\n",
        "    df = df.rename(columns={year: csv_file.replace('.csv', '')+'_'+year})\n",
        "    df.set_index('Country')\n",
        "\n",
        "    if first:\n",
        "      result_df = df\n",
        "      result_df.set_index('Country')\n",
        "      first = False\n",
        "    else:\n",
        "      result_df = result_df.reset_index().merge(df, how=\"outer\").set_index('Country')\n",
        "\n",
        "  result_df = result_df.drop('index', axis=1)\n",
        "\n",
        "  return result_df"
      ],
      "metadata": {
        "id": "1ZwyRggZzk77"
      },
      "execution_count": 170,
      "outputs": []
    },
    {
      "cell_type": "code",
      "source": [
        "df = create_dataset_by_year('2015')"
      ],
      "metadata": {
        "id": "BK3MsPkLOPdN"
      },
      "execution_count": 171,
      "outputs": []
    },
    {
      "cell_type": "code",
      "source": [
        "df\n"
      ],
      "metadata": {
        "id": "-LFGqsPjhXtq",
        "outputId": "048829d5-206a-47f0-88e7-7eb7db52da29",
        "colab": {
          "base_uri": "https://localhost:8080/",
          "height": 588
        }
      },
      "execution_count": 172,
      "outputs": [
        {
          "output_type": "execute_result",
          "data": {
            "text/plain": [
              "                     Population _ages_65 _and _older_2015 Median_age_2015  \\\n",
              "Country                                                                     \n",
              " Afghanistan                                          0.9            17.2   \n",
              " Albania                                              0.4            34.9   \n",
              " Algeria                                              2.3            27.5   \n",
              " Angola                                               0.6            16.4   \n",
              " Antigua and Barbuda                                    0            32.6   \n",
              "...                                                   ...             ...   \n",
              " Palau                                                 ..              ..   \n",
              " Monaco                                               NaN             NaN   \n",
              " Nauru                                                NaN             NaN   \n",
              " San Marino                                           NaN             NaN   \n",
              " Tuvalu                                               NaN             NaN   \n",
              "\n",
              "                      Total_Population_2015 Sex_ratio_at_birth_2015  \\\n",
              "Country                                                               \n",
              " Afghanistan                           34.4                    1.06   \n",
              " Albania                                2.9                     1.1   \n",
              " Algeria                               39.7                    1.05   \n",
              " Angola                                27.9                    1.03   \n",
              " Antigua and Barbuda                    0.1                    1.03   \n",
              "...                                     ...                     ...   \n",
              " Palau                                  0.0                      ..   \n",
              " Monaco                                 0.0                     NaN   \n",
              " Nauru                                  0.0                     NaN   \n",
              " San Marino                             0.0                     NaN   \n",
              " Tuvalu                                 0.0                     NaN   \n",
              "\n",
              "                     Population_under_age_5_2015  \\\n",
              "Country                                            \n",
              " Afghanistan                                 5.5   \n",
              " Albania                                     0.2   \n",
              " Algeria                                     4.7   \n",
              " Angola                                      5.2   \n",
              " Antigua and Barbuda                           0   \n",
              "...                                          ...   \n",
              " Palau                                        ..   \n",
              " Monaco                                      NaN   \n",
              " Nauru                                       NaN   \n",
              " San Marino                                  NaN   \n",
              " Tuvalu                                      NaN   \n",
              "\n",
              "                     Old_age_dependency_ratio_2015  Urban_Population_2015  \\\n",
              "Country                                                                     \n",
              " Afghanistan                                   4.7                   24.8   \n",
              " Albania                                      18.4                   57.4   \n",
              " Algeria                                         9                   70.8   \n",
              " Angola                                        4.5                   63.4   \n",
              " Antigua and Barbuda                          11.8                   25.0   \n",
              "...                                            ...                    ...   \n",
              " Palau                                          ..                   78.2   \n",
              " Monaco                                        NaN                  100.0   \n",
              " Nauru                                         NaN                  100.0   \n",
              " San Marino                                    NaN                   96.7   \n",
              " Tuvalu                                        NaN                   59.7   \n",
              "\n",
              "                     Population_ages_15_64_2015  \\\n",
              "Country                                           \n",
              " Afghanistan                               18.1   \n",
              " Albania                                      2   \n",
              " Algeria                                     26   \n",
              " Angola                                    14.1   \n",
              " Antigua and Barbuda                        0.1   \n",
              "...                                         ...   \n",
              " Palau                                       ..   \n",
              " Monaco                                     NaN   \n",
              " Nauru                                      NaN   \n",
              " San Marino                                 NaN   \n",
              " Tuvalu                                     NaN   \n",
              "\n",
              "                     Young_age_dependency_ratio_2015  \n",
              "Country                                               \n",
              " Afghanistan                                    85.2  \n",
              " Albania                                        27.2  \n",
              " Algeria                                        43.9  \n",
              " Angola                                         93.1  \n",
              " Antigua and Barbuda                            32.6  \n",
              "...                                              ...  \n",
              " Palau                                            ..  \n",
              " Monaco                                          NaN  \n",
              " Nauru                                           NaN  \n",
              " San Marino                                      NaN  \n",
              " Tuvalu                                          NaN  \n",
              "\n",
              "[195 rows x 9 columns]"
            ],
            "text/html": [
              "\n",
              "  <div id=\"df-ae653717-3c6b-4011-a3e8-a03e2ba61b35\">\n",
              "    <div class=\"colab-df-container\">\n",
              "      <div>\n",
              "<style scoped>\n",
              "    .dataframe tbody tr th:only-of-type {\n",
              "        vertical-align: middle;\n",
              "    }\n",
              "\n",
              "    .dataframe tbody tr th {\n",
              "        vertical-align: top;\n",
              "    }\n",
              "\n",
              "    .dataframe thead th {\n",
              "        text-align: right;\n",
              "    }\n",
              "</style>\n",
              "<table border=\"1\" class=\"dataframe\">\n",
              "  <thead>\n",
              "    <tr style=\"text-align: right;\">\n",
              "      <th></th>\n",
              "      <th>Population _ages_65 _and _older_2015</th>\n",
              "      <th>Median_age_2015</th>\n",
              "      <th>Total_Population_2015</th>\n",
              "      <th>Sex_ratio_at_birth_2015</th>\n",
              "      <th>Population_under_age_5_2015</th>\n",
              "      <th>Old_age_dependency_ratio_2015</th>\n",
              "      <th>Urban_Population_2015</th>\n",
              "      <th>Population_ages_15_64_2015</th>\n",
              "      <th>Young_age_dependency_ratio_2015</th>\n",
              "    </tr>\n",
              "    <tr>\n",
              "      <th>Country</th>\n",
              "      <th></th>\n",
              "      <th></th>\n",
              "      <th></th>\n",
              "      <th></th>\n",
              "      <th></th>\n",
              "      <th></th>\n",
              "      <th></th>\n",
              "      <th></th>\n",
              "      <th></th>\n",
              "    </tr>\n",
              "  </thead>\n",
              "  <tbody>\n",
              "    <tr>\n",
              "      <th>Afghanistan</th>\n",
              "      <td>0.9</td>\n",
              "      <td>17.2</td>\n",
              "      <td>34.4</td>\n",
              "      <td>1.06</td>\n",
              "      <td>5.5</td>\n",
              "      <td>4.7</td>\n",
              "      <td>24.8</td>\n",
              "      <td>18.1</td>\n",
              "      <td>85.2</td>\n",
              "    </tr>\n",
              "    <tr>\n",
              "      <th>Albania</th>\n",
              "      <td>0.4</td>\n",
              "      <td>34.9</td>\n",
              "      <td>2.9</td>\n",
              "      <td>1.1</td>\n",
              "      <td>0.2</td>\n",
              "      <td>18.4</td>\n",
              "      <td>57.4</td>\n",
              "      <td>2</td>\n",
              "      <td>27.2</td>\n",
              "    </tr>\n",
              "    <tr>\n",
              "      <th>Algeria</th>\n",
              "      <td>2.3</td>\n",
              "      <td>27.5</td>\n",
              "      <td>39.7</td>\n",
              "      <td>1.05</td>\n",
              "      <td>4.7</td>\n",
              "      <td>9</td>\n",
              "      <td>70.8</td>\n",
              "      <td>26</td>\n",
              "      <td>43.9</td>\n",
              "    </tr>\n",
              "    <tr>\n",
              "      <th>Angola</th>\n",
              "      <td>0.6</td>\n",
              "      <td>16.4</td>\n",
              "      <td>27.9</td>\n",
              "      <td>1.03</td>\n",
              "      <td>5.2</td>\n",
              "      <td>4.5</td>\n",
              "      <td>63.4</td>\n",
              "      <td>14.1</td>\n",
              "      <td>93.1</td>\n",
              "    </tr>\n",
              "    <tr>\n",
              "      <th>Antigua and Barbuda</th>\n",
              "      <td>0</td>\n",
              "      <td>32.6</td>\n",
              "      <td>0.1</td>\n",
              "      <td>1.03</td>\n",
              "      <td>0</td>\n",
              "      <td>11.8</td>\n",
              "      <td>25.0</td>\n",
              "      <td>0.1</td>\n",
              "      <td>32.6</td>\n",
              "    </tr>\n",
              "    <tr>\n",
              "      <th>...</th>\n",
              "      <td>...</td>\n",
              "      <td>...</td>\n",
              "      <td>...</td>\n",
              "      <td>...</td>\n",
              "      <td>...</td>\n",
              "      <td>...</td>\n",
              "      <td>...</td>\n",
              "      <td>...</td>\n",
              "      <td>...</td>\n",
              "    </tr>\n",
              "    <tr>\n",
              "      <th>Palau</th>\n",
              "      <td>..</td>\n",
              "      <td>..</td>\n",
              "      <td>0.0</td>\n",
              "      <td>..</td>\n",
              "      <td>..</td>\n",
              "      <td>..</td>\n",
              "      <td>78.2</td>\n",
              "      <td>..</td>\n",
              "      <td>..</td>\n",
              "    </tr>\n",
              "    <tr>\n",
              "      <th>Monaco</th>\n",
              "      <td>NaN</td>\n",
              "      <td>NaN</td>\n",
              "      <td>0.0</td>\n",
              "      <td>NaN</td>\n",
              "      <td>NaN</td>\n",
              "      <td>NaN</td>\n",
              "      <td>100.0</td>\n",
              "      <td>NaN</td>\n",
              "      <td>NaN</td>\n",
              "    </tr>\n",
              "    <tr>\n",
              "      <th>Nauru</th>\n",
              "      <td>NaN</td>\n",
              "      <td>NaN</td>\n",
              "      <td>0.0</td>\n",
              "      <td>NaN</td>\n",
              "      <td>NaN</td>\n",
              "      <td>NaN</td>\n",
              "      <td>100.0</td>\n",
              "      <td>NaN</td>\n",
              "      <td>NaN</td>\n",
              "    </tr>\n",
              "    <tr>\n",
              "      <th>San Marino</th>\n",
              "      <td>NaN</td>\n",
              "      <td>NaN</td>\n",
              "      <td>0.0</td>\n",
              "      <td>NaN</td>\n",
              "      <td>NaN</td>\n",
              "      <td>NaN</td>\n",
              "      <td>96.7</td>\n",
              "      <td>NaN</td>\n",
              "      <td>NaN</td>\n",
              "    </tr>\n",
              "    <tr>\n",
              "      <th>Tuvalu</th>\n",
              "      <td>NaN</td>\n",
              "      <td>NaN</td>\n",
              "      <td>0.0</td>\n",
              "      <td>NaN</td>\n",
              "      <td>NaN</td>\n",
              "      <td>NaN</td>\n",
              "      <td>59.7</td>\n",
              "      <td>NaN</td>\n",
              "      <td>NaN</td>\n",
              "    </tr>\n",
              "  </tbody>\n",
              "</table>\n",
              "<p>195 rows × 9 columns</p>\n",
              "</div>\n",
              "      <button class=\"colab-df-convert\" onclick=\"convertToInteractive('df-ae653717-3c6b-4011-a3e8-a03e2ba61b35')\"\n",
              "              title=\"Convert this dataframe to an interactive table.\"\n",
              "              style=\"display:none;\">\n",
              "        \n",
              "  <svg xmlns=\"http://www.w3.org/2000/svg\" height=\"24px\"viewBox=\"0 0 24 24\"\n",
              "       width=\"24px\">\n",
              "    <path d=\"M0 0h24v24H0V0z\" fill=\"none\"/>\n",
              "    <path d=\"M18.56 5.44l.94 2.06.94-2.06 2.06-.94-2.06-.94-.94-2.06-.94 2.06-2.06.94zm-11 1L8.5 8.5l.94-2.06 2.06-.94-2.06-.94L8.5 2.5l-.94 2.06-2.06.94zm10 10l.94 2.06.94-2.06 2.06-.94-2.06-.94-.94-2.06-.94 2.06-2.06.94z\"/><path d=\"M17.41 7.96l-1.37-1.37c-.4-.4-.92-.59-1.43-.59-.52 0-1.04.2-1.43.59L10.3 9.45l-7.72 7.72c-.78.78-.78 2.05 0 2.83L4 21.41c.39.39.9.59 1.41.59.51 0 1.02-.2 1.41-.59l7.78-7.78 2.81-2.81c.8-.78.8-2.07 0-2.86zM5.41 20L4 18.59l7.72-7.72 1.47 1.35L5.41 20z\"/>\n",
              "  </svg>\n",
              "      </button>\n",
              "      \n",
              "  <style>\n",
              "    .colab-df-container {\n",
              "      display:flex;\n",
              "      flex-wrap:wrap;\n",
              "      gap: 12px;\n",
              "    }\n",
              "\n",
              "    .colab-df-convert {\n",
              "      background-color: #E8F0FE;\n",
              "      border: none;\n",
              "      border-radius: 50%;\n",
              "      cursor: pointer;\n",
              "      display: none;\n",
              "      fill: #1967D2;\n",
              "      height: 32px;\n",
              "      padding: 0 0 0 0;\n",
              "      width: 32px;\n",
              "    }\n",
              "\n",
              "    .colab-df-convert:hover {\n",
              "      background-color: #E2EBFA;\n",
              "      box-shadow: 0px 1px 2px rgba(60, 64, 67, 0.3), 0px 1px 3px 1px rgba(60, 64, 67, 0.15);\n",
              "      fill: #174EA6;\n",
              "    }\n",
              "\n",
              "    [theme=dark] .colab-df-convert {\n",
              "      background-color: #3B4455;\n",
              "      fill: #D2E3FC;\n",
              "    }\n",
              "\n",
              "    [theme=dark] .colab-df-convert:hover {\n",
              "      background-color: #434B5C;\n",
              "      box-shadow: 0px 1px 3px 1px rgba(0, 0, 0, 0.15);\n",
              "      filter: drop-shadow(0px 1px 2px rgba(0, 0, 0, 0.3));\n",
              "      fill: #FFFFFF;\n",
              "    }\n",
              "  </style>\n",
              "\n",
              "      <script>\n",
              "        const buttonEl =\n",
              "          document.querySelector('#df-ae653717-3c6b-4011-a3e8-a03e2ba61b35 button.colab-df-convert');\n",
              "        buttonEl.style.display =\n",
              "          google.colab.kernel.accessAllowed ? 'block' : 'none';\n",
              "\n",
              "        async function convertToInteractive(key) {\n",
              "          const element = document.querySelector('#df-ae653717-3c6b-4011-a3e8-a03e2ba61b35');\n",
              "          const dataTable =\n",
              "            await google.colab.kernel.invokeFunction('convertToInteractive',\n",
              "                                                     [key], {});\n",
              "          if (!dataTable) return;\n",
              "\n",
              "          const docLinkHtml = 'Like what you see? Visit the ' +\n",
              "            '<a target=\"_blank\" href=https://colab.research.google.com/notebooks/data_table.ipynb>data table notebook</a>'\n",
              "            + ' to learn more about interactive tables.';\n",
              "          element.innerHTML = '';\n",
              "          dataTable['output_type'] = 'display_data';\n",
              "          await google.colab.output.renderOutput(dataTable, element);\n",
              "          const docLink = document.createElement('div');\n",
              "          docLink.innerHTML = docLinkHtml;\n",
              "          element.appendChild(docLink);\n",
              "        }\n",
              "      </script>\n",
              "    </div>\n",
              "  </div>\n",
              "  "
            ]
          },
          "metadata": {},
          "execution_count": 172
        }
      ]
    }
  ]
}