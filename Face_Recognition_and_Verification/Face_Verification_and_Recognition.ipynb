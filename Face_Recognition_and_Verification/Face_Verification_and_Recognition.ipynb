{
  "cells": [
    {
      "cell_type": "markdown",
      "metadata": {
        "id": "view-in-github",
        "colab_type": "text"
      },
      "source": [
        "<a href=\"https://colab.research.google.com/github/fernandoGitHub/ML_Projects/blob/main/Face_Recognition_and_Verification/Face_Verification_and_Recognition.ipynb\" target=\"_parent\"><img src=\"https://colab.research.google.com/assets/colab-badge.svg\" alt=\"Open In Colab\"/></a>"
      ]
    },
    {
      "cell_type": "markdown",
      "metadata": {
        "id": "L6MjEM8bJQIN"
      },
      "source": [
        "<a name='A'></a>\n",
        "# A - Face Recognition\n",
        "\n",
        "Time to build a face recognition system. Many of the ideas presented here are from [FaceNet](https://arxiv.org/pdf/1503.03832.pdf) and [DeepFace](https://research.fb.com/wp-content/uploads/2016/11/deepface-closing-the-gap-to-human-level-performance-in-face-verification.pdf).\n",
        "\n",
        "Face recognition problems commonly fall into one of two categories: \n",
        "\n",
        "**Face Verification** \"Is this the claimed person?\" For example, at some airports, you can pass through customs by letting a system scan your passport and then verifying that you (the person carrying the passport) are the correct person. A mobile phone that unlocks using your face is also using face verification. This is a 1:1 matching problem.\n",
        "\n",
        "**Face Recognition** \"Who is this person?\" This is a 1:K matching problem.\n",
        "\n",
        "FaceNet learns a neural network that encodes a face image into a vector of 128 numbers. By comparing two such vectors, you can then determine if two pictures are of the same person.\n",
        "\n",
        "In this exercise, we will:\n",
        "\n",
        "* Implement one-shot learning to solve a face recognition problem\n",
        "* Apply the triplet loss function to learn a network's parameters in the context of face recognition\n",
        "* Explain how to pose face recognition as a binary classification problem\n",
        "* Map face images into 128-dimensional encodings using a pretrained model\n",
        "* Perform face verification and face recognition with these encodings\n",
        "\n",
        "**Channels-last notation**\n",
        "\n",
        "We'll be using a pre-trained model which represents ConvNet activations using a \"channels last\" convention. In other words, a batch of images will be of shape $(m, n_H, n_W, n_C)$. "
      ]
    },
    {
      "cell_type": "markdown",
      "metadata": {
        "id": "7yuBSD3uJQIT"
      },
      "source": [
        "<a name='A.1'></a>\n",
        "## A.1 - Packages & Setup\n",
        "\n",
        "Go ahead and run the cell below to import the packages you'll need."
      ]
    },
    {
      "cell_type": "code",
      "execution_count": 1,
      "metadata": {
        "id": "QJUVaeuUJQIU"
      },
      "outputs": [],
      "source": [
        "import tensorflow as tf\n",
        "\n",
        "from tensorflow.keras.models import Sequential\n",
        "from tensorflow.keras.layers import Conv2D, ZeroPadding2D, Activation, Input, concatenate\n",
        "from tensorflow.keras.models import Model\n",
        "from tensorflow.keras.layers import BatchNormalization\n",
        "from tensorflow.keras.layers import MaxPooling2D, AveragePooling2D\n",
        "from tensorflow.keras.layers import Concatenate\n",
        "from tensorflow.keras.layers import Lambda, Flatten, Dense\n",
        "from tensorflow.keras.initializers import glorot_uniform\n",
        "from tensorflow.keras.layers import Layer\n",
        "from tensorflow.keras import backend as K\n",
        "K.set_image_data_format('channels_last')\n",
        "\n",
        "import os\n",
        "import numpy as np\n",
        "from numpy import genfromtxt\n",
        "import pandas as pd\n",
        "\n",
        "import PIL\n",
        "import shutil\n",
        "from zipfile import ZipFile\n",
        "\n",
        "%matplotlib inline\n",
        "%load_ext autoreload\n",
        "%autoreload 2"
      ]
    },
    {
      "cell_type": "code",
      "source": [
        "# Installing packages without !pip\n",
        "import sys\n",
        "import subprocess as sp\n",
        "import pkg_resources\n",
        "\n",
        "def install_package(package, reload = True):\n",
        "  # Veryfing existing install prior to install\n",
        "  if is_installed(package):\n",
        "    print (f'Package: {package} is already installed. Skipping installation')\n",
        "  else:\n",
        "    print(f'Installing {package} ...')\n",
        "    sp.check_call([sys.executable, '-m', 'pip', 'install', package])\n",
        "    print(f'Package {package} has been successfully installed')\n",
        "\n",
        "  if reload:\n",
        "    reload_packages()\n",
        "\n",
        "def is_installed (package):\n",
        "  # Getting all the list of packages\n",
        "  return (package in get_installed_packages())\n",
        "\n",
        "def get_installed_packages():\n",
        "  return sorted({pkg.key for pkg in pkg_resources.working_set})\n",
        "\n",
        "def reload_packages():\n",
        "  print ('Reloading Packages')\n",
        "  import pkg_resources\n",
        "  import importlib\n",
        "  importlib.reload(pkg_resources)"
      ],
      "metadata": {
        "id": "8TdN4FrjMQWU"
      },
      "execution_count": 2,
      "outputs": []
    },
    {
      "cell_type": "code",
      "source": [
        "install_package('wget')\n",
        "import wget\n",
        "\n",
        "install_package('ipdb')\n",
        "import ipdb\n",
        "#%pdb on\n",
        "\n",
        "install_package('gdown')\n",
        "import gdown"
      ],
      "metadata": {
        "colab": {
          "base_uri": "https://localhost:8080/"
        },
        "id": "iwT_z_HyMT_p",
        "outputId": "ba5ef0a9-00dd-4473-d4b9-3a9a7b420947"
      },
      "execution_count": 3,
      "outputs": [
        {
          "output_type": "stream",
          "name": "stdout",
          "text": [
            "Package: wget is already installed. Skipping installation\n",
            "Reloading Packages\n",
            "Package: ipdb is already installed. Skipping installation\n",
            "Reloading Packages\n",
            "Package: gdown is already installed. Skipping installation\n",
            "Reloading Packages\n"
          ]
        }
      ]
    },
    {
      "cell_type": "markdown",
      "source": [
        "<a name = A.2></a>\n",
        "## A.2 - Data Preparation"
      ],
      "metadata": {
        "id": "xZun_6jJMZ1m"
      }
    },
    {
      "cell_type": "code",
      "source": [
        "def retrieve_data(data_instructions):\n",
        "  for data_instruction in data_instructions:\n",
        "    base_path, file, base_url, method, remove = data_instruction\n",
        "\n",
        "    if os.path.isdir(base_path) and remove and (base_path != '.'):\n",
        "      print(f'Removing directory tree: {base_path} ...')\n",
        "      shutil.rmtree(base_path)\n",
        "\n",
        "    if not os.path.isdir(base_path):\n",
        "      print(f'Creating directory: {base_path} ...')\n",
        "      os.mkdir(base_path)\n",
        "\n",
        "    if not file == None:\n",
        "      file_path = os.path.join(base_path, file)\n",
        "\n",
        "      if os.path.isfile(file_path):\n",
        "        if not remove:\n",
        "          print(f'{file_path} already exists, skipping retrieve ...')\n",
        "        else:\n",
        "          print(f'Removing file: {file_path} ...')\n",
        "          os.remove(file_path)\n",
        "      else:\n",
        "        if method == 'GDrive':\n",
        "          print(f'Fetching from Google Drive: {file} ...')\n",
        "          os.system(f'! gdown {base_url}') \n",
        "          os.replace(os.path.join('.', file), file_path)\n",
        "\n",
        "        elif method == 'Github':\n",
        "          print(f\"Fetching from GitHub: {file} ...\")\n",
        "          url_path  = os.path.join(base_url, file)\n",
        "          file_name = wget.download(url_path)\n",
        "          os.replace(os.path.join('.', file), file_path)\n",
        "\n",
        "      if file.lower().endswith('zip'):\n",
        "        print(f\"Extracting files in {file} ...\")\n",
        "        with ZipFile(file_path, 'r') as zippy:\n",
        "          zippy.extractall(base_path)"
      ],
      "metadata": {
        "id": "XrBQPZP5QVEo"
      },
      "execution_count": 4,
      "outputs": []
    },
    {
      "cell_type": "code",
      "source": [
        "data_instructions=list()\n",
        "data_instructions.append(('./models', None, None, None, False))\n",
        "data_instructions.append(('.', 'models.zip', 'https://github.com/fernandoGitHub/ML_Projects/raw/main/Face_Recognition_and_Verification/data/', 'Github', False))\n",
        "data_instructions.append(('./models', 'keras-facenet_tf23.zip', '1TN3xJrE60Vfyi-DGmKT9RgB3FVAysYgi', 'GDrive', False))\n",
        "data_instructions.append(('./models', 'keras-facenet-h5.zip', '1TTj3O3l_QHEjweQKdMdYSxYqK2W_vURD', 'GDrive', False))\n",
        "data_instructions.append(('./images', None, None, None, True))\n",
        "data_instructions.append(('.', 'images.zip', 'https://github.com/fernandoGitHub/ML_Projects/raw/main/Face_Recognition_and_Verification/data/', 'Github', False))\n",
        "retrieve_data(data_instructions)\n",
        "\n",
        "# Remove default sample_data directory\n",
        "if os.path.isdir('./sample_data'):\n",
        "  shutil.rmtree('./sample_data')\n",
        "  print('Removing default sample_data directory...')"
      ],
      "metadata": {
        "colab": {
          "base_uri": "https://localhost:8080/"
        },
        "id": "fIhe38ExMaRH",
        "outputId": "514375d8-90d2-4397-d70a-3a2ec7b6f354"
      },
      "execution_count": 5,
      "outputs": [
        {
          "output_type": "stream",
          "name": "stdout",
          "text": [
            "./models.zip already exists, skipping retrieve ...\n",
            "Extracting files in models.zip ...\n",
            "./models/keras-facenet_tf23.zip already exists, skipping retrieve ...\n",
            "Extracting files in keras-facenet_tf23.zip ...\n",
            "./models/keras-facenet-h5.zip already exists, skipping retrieve ...\n",
            "Extracting files in keras-facenet-h5.zip ...\n",
            "Removing directory tree: ./images ...\n",
            "Creating directory: ./images ...\n",
            "./images.zip already exists, skipping retrieve ...\n",
            "Extracting files in images.zip ...\n"
          ]
        }
      ]
    },
    {
      "cell_type": "markdown",
      "metadata": {
        "id": "VMj5cC4SJQIV"
      },
      "source": [
        "<a name='A.3'></a>\n",
        "## A.3 - Naive Face Verification\n",
        "\n",
        "In Face Verification, you're given two images and you have to determine if they are of the same person. The simplest way to do this is to compare the two images pixel-by-pixel. If the distance between the raw images is below a chosen threshold, it may be the same person!\n",
        "\n",
        "<figure align=\"center\">\n",
        "  <img src=\"https://github.com/fernandoGitHub/ML_Projects/raw/main/Face_Recognition_and_Verification/notebook_images/pixel_comparison.png\" style=\"width:380px;height:150px;\">\n",
        "  <figcaption><center> <u> <font color='purple'> <b>Figure 1</b> </u></center></figcaption>\n",
        "</figure>\n",
        "\n",
        "Of course, this algorithm performs poorly, since the pixel values change dramatically due to variations in lighting, orientation of the person's face, minor changes in head position, and so on.\n",
        "\n",
        "You'll see that rather than using the raw image, you can learn an encoding, $f(img)$.\n",
        "\n",
        "By using an encoding for each image, an element-wise comparison produces a more accurate judgement as to whether two pictures are of the same person."
      ]
    },
    {
      "cell_type": "markdown",
      "metadata": {
        "id": "uc9DlmDBJQIV"
      },
      "source": [
        "<a name='A.4'></a>\n",
        "## A.4 - Encoding Face Images into a 128-Dimensional Vector\n",
        "\n",
        "The FaceNet model takes a lot of data and a long time to train. So following the common practice in applied deep learning, you'll load weights that someone else has already trained. The network architecture follows the Inception model from [Szegedy *et al*..](https://arxiv.org/abs/1409.4842) \n",
        "\n",
        "The key things to be aware of are:\n",
        "\n",
        "- This network uses 160x160 dimensional RGB images as its input. Specifically, a face image (or batch of $m$ face images) as a tensor of shape $(m, n_H, n_W, n_C) = (m, 160, 160, 3)$\n",
        "- The input images are originally of shape 96x96, thus, you need to scale them to 160x160. This is done in the `img_to_encoding()` function.\n",
        "- The output is a matrix of shape $(m, 128)$ that encodes each input face image into a 128-dimensional vector"
      ]
    },
    {
      "cell_type": "code",
      "execution_count": 6,
      "metadata": {
        "id": "wguyWAZ9JQIW"
      },
      "outputs": [],
      "source": [
        "from tensorflow.keras.models import model_from_json\n",
        "\n",
        "json_file = open('./models/keras-facenet-h5/model.json', 'r')\n",
        "loaded_model_json = json_file.read()\n",
        "json_file.close()\n",
        "model = model_from_json(loaded_model_json)\n",
        "model.load_weights('./models/keras-facenet-h5/model.h5')"
      ]
    },
    {
      "cell_type": "markdown",
      "metadata": {
        "id": "fFcJtOCvJQIX"
      },
      "source": [
        "Now summarize the input and output shapes: "
      ]
    },
    {
      "cell_type": "code",
      "execution_count": 7,
      "metadata": {
        "colab": {
          "base_uri": "https://localhost:8080/"
        },
        "id": "pR-lR1lXJQIY",
        "outputId": "79ff4a6d-7be9-4c86-eee5-46c5a07dd057"
      },
      "outputs": [
        {
          "output_type": "stream",
          "name": "stdout",
          "text": [
            "[<KerasTensor: shape=(None, 160, 160, 3) dtype=float32 (created by layer 'input_1')>]\n",
            "[<KerasTensor: shape=(None, 128) dtype=float32 (created by layer 'Bottleneck_BatchNorm')>]\n"
          ]
        }
      ],
      "source": [
        "print(model.inputs)\n",
        "print(model.outputs)"
      ]
    },
    {
      "cell_type": "markdown",
      "metadata": {
        "id": "4wVoAPbQJQIZ"
      },
      "source": [
        "By using a 128-neuron fully connected layer as its last layer, the model ensures that the output is an encoding vector of size 128. You then use the encodings to compare two face images as follows:\n",
        "\n",
        "<figure align=\"center\">\n",
        "  <img src=\"https://github.com/fernandoGitHub/ML_Projects/raw/main/Face_Recognition_and_Verification/notebook_images/distance_kiank.png\" style=\"width:380px;height:150px;\">\n",
        "  <figcaption><center> <u> <font color='purple'> <b>Figure 2:</b> <br> </u> By computing the distance between two encodings and thresholding, you can determine if the two pictures represent the same person</center></figcaption>\n",
        "</figure>\n",
        "\n",
        "So, an encoding is a good one if:\n",
        "\n",
        "- The encodings of two images of the same person are quite similar to each other.\n",
        "- The encodings of two images of different persons are very different.\n",
        "\n",
        "The triplet loss function formalizes this, and tries to \"push\" the encodings of two images of the same person (Anchor and Positive) closer together, while \"pulling\" the encodings of two images of different persons (Anchor, Negative) further apart.\n",
        "\n",
        "<figure align=\"center\">\n",
        "  <img src=\"https://github.com/fernandoGitHub/ML_Projects/raw/main/Face_Recognition_and_Verification/notebook_images/triplet_comparison.png\" style=\"width:380px;height:150px;\">\n",
        "  <figcaption><center> <u> <font color='purple'> <b>Figure 3:</b> Anchor (A), Positive (P), Negative (N) </u> </center></figcaption>\n",
        "</figure>\n"
      ]
    },
    {
      "cell_type": "markdown",
      "metadata": {
        "id": "KRpHWvvYJQIa"
      },
      "source": [
        "<a name='A.5'></a>\n",
        "## A.5 - The Triplet Loss\n",
        "\n",
        "**Important Note**: Since we're using a pretrained model, we won't actually need to implement the triplet loss function in this assignment. *However*, the triplet loss is the main ingredient of the face recognition algorithm, and you'll need to know how to use it for training your own FaceNet model, as well as other types of image similarity problems. Therefore, you'll implement it below, for fun and edification. :) \n",
        "\n",
        "For an image $x$, its encoding is denoted as $f(x)$, where $f$ is the function computed by the neural network.\n",
        "\n",
        "<figure align=\"center\">\n",
        "  <img src=\"https://github.com/fernandoGitHub/ML_Projects/raw/main/Face_Recognition_and_Verification/notebook_images/f_x.png\" style=\"width:380px;height:150px;\">\n",
        "  <figcaption><center> <u> <font color='purple'> <b>Figure 4:</b> The triplet loss) </u> </center></figcaption>\n",
        "</figure>\n",
        "\n",
        "Training will use triplets of images $(A, P, N)$:\n",
        "\n",
        "- A is an \"Anchor\" image--a picture of a person.\n",
        "- P is a \"Positive\" image--a picture of the same person as the Anchor image.\n",
        "- N is a \"Negative\" image--a picture of a different person than the Anchor image.\n",
        "\n",
        "These triplets are picked from the training dataset. $(A^{(i)}, P^{(i)}, N^{(i)})$ is used here to denote the $i$-th training example.\n",
        "\n",
        "You'd like to make sure that an image $A^{(i)}$ of an individual is closer to the Positive $P^{(i)}$ than to the Negative image $N^{(i)}$) by at least a margin $\\alpha$:\n",
        "\n",
        "$$\n",
        "|| f\\left(A^{(i)}\\right)-f\\left(P^{(i)}\\right)||_{2}^{2}+\\alpha<|| f\\left(A^{(i)}\\right)-f\\left(N^{(i)}\\right)||_{2}^{2}\n",
        "$$\n",
        "\n",
        "\n",
        "You would thus like to minimize the following \"triplet cost\":\n",
        "\n",
        "$$\\mathcal{J} = \\sum^{m}_{i=1} \\large[ \\small \\underbrace{\\mid \\mid f(A^{(i)}) - f(P^{(i)}) \\mid \\mid_2^2}_\\text{(1)} - \\underbrace{\\mid \\mid f(A^{(i)}) - f(N^{(i)}) \\mid \\mid_2^2}_\\text{(2)} + \\alpha \\large ] \\small_+ \\tag{3}$$\n",
        "Here, the notation \"$[z]_+$\" is used to denote $max(z,0)$.\n",
        "\n",
        "**Notes**:\n",
        "\n",
        "- The term (1) is the squared distance between the anchor \"A\" and the positive \"P\" for a given triplet; you want this to be small.\n",
        "- The term (2) is the squared distance between the anchor \"A\" and the negative \"N\" for a given triplet, you want this to be relatively large. It has a minus sign preceding it because minimizing the negative of the term is the same as maximizing that term.\n",
        "- $\\alpha$ is called the margin. It's a hyperparameter that you pick manually. You'll use $\\alpha = 0.2$.\n",
        "\n",
        "Most implementations also rescale the encoding vectors to haven L2 norm equal to one (i.e., $\\mid \\mid f(img)\\mid \\mid_2$=1).\n",
        "\n",
        "\n"
      ]
    },
    {
      "cell_type": "code",
      "execution_count": 8,
      "metadata": {
        "nbgrader": {
          "grade": false,
          "grade_id": "cell-f05732f7068382cb",
          "locked": false,
          "schema_version": 3,
          "solution": true,
          "task": false
        },
        "id": "wuLdQZ7lJQIa"
      },
      "outputs": [],
      "source": [
        "def triplet_loss(y_true, y_pred, alpha = 0.2):\n",
        "    \"\"\"\n",
        "    Implementation of the triplet loss as defined by formula (3)\n",
        "    \n",
        "    Arguments:\n",
        "    y_true -- true labels, required when you define a loss in Keras, you don't need it in this function.\n",
        "    y_pred -- python list containing three objects:\n",
        "            anchor -- the encodings for the anchor images, of shape (None, 128)\n",
        "            positive -- the encodings for the positive images, of shape (None, 128)\n",
        "            negative -- the encodings for the negative images, of shape (None, 128)\n",
        "    \n",
        "    Returns:\n",
        "    loss -- real number, value of the loss\n",
        "    \"\"\"\n",
        "    \n",
        "    anchor, positive, negative = y_pred[0], y_pred[1], y_pred[2]\n",
        "\n",
        "    # Step 1: Compute the (encoding) distance between the anchor and the positive\n",
        "    pos_dist = tf.reduce_sum(tf.square(tf.subtract(anchor, positive)), axis=-1)\n",
        "\n",
        "    # Step 2: Compute the (encoding) distance between the anchor and the negative\n",
        "    neg_dist = tf.reduce_sum(tf.square(tf.subtract(anchor, negative)), axis=-1)\n",
        "\n",
        "    # Step 3: subtract the two previous distances and add alpha.\n",
        "    basic_loss = tf.add(tf.subtract(pos_dist, neg_dist), alpha)\n",
        "\n",
        "    # Step 4: Take the maximum of basic_loss and 0.0. Sum over the training examples.\n",
        "    loss = tf.reduce_sum(tf.maximum(basic_loss, 0.0))\n",
        "    \n",
        "    return loss"
      ]
    },
    {
      "cell_type": "markdown",
      "metadata": {
        "id": "bklawwPXJQIc"
      },
      "source": [
        "<a name='A.6'></a>\n",
        "## A.6 - Loading the Pre-trained Model\n",
        "\n",
        "FaceNet is trained by minimizing the triplet loss. But since training requires a lot of data and a lot of computation, you won't train it from scratch here. Instead, you'll load a previously trained model in the following cell; which might take a couple of minutes to run."
      ]
    },
    {
      "cell_type": "code",
      "execution_count": 9,
      "metadata": {
        "nbgrader": {
          "grade": false,
          "grade_id": "cell-953bcab8e9bbba10",
          "locked": true,
          "schema_version": 3,
          "solution": false,
          "task": false
        },
        "id": "NCBUx4RjJQIc"
      },
      "outputs": [],
      "source": [
        "FRmodel = model"
      ]
    },
    {
      "cell_type": "markdown",
      "metadata": {
        "id": "VFIXmr_eJQIc"
      },
      "source": [
        "Here are some examples of distances between the encodings between three individuals:\n",
        "\n",
        "<figure align=\"center\">\n",
        "  <img src=\"https://github.com/fernandoGitHub/ML_Projects/raw/main/Face_Recognition_and_Verification/notebook_images/distance_matrix.png\" style=\"width:380px;height:150px;\">\n",
        "  <figcaption><center> <u> <font color='purple'> <b>Figure 5:</b> Example of distance outputs between three individuals' encodings) </u> </center></figcaption>\n",
        "</figure>\n",
        "\n",
        "Now use this model to perform face verification and face recognition!"
      ]
    },
    {
      "cell_type": "markdown",
      "metadata": {
        "id": "2RcDdxWqJQId"
      },
      "source": [
        "<a name='A.7'></a>\n",
        "## A.7 - Applying the Model\n",
        "\n",
        "You're building a system for an office building where the building manager would like to offer facial recognition to allow the employees to enter the building.\n",
        "\n",
        "You'd like to build a face verification system that gives access to a list of people. To be admitted, each person has to swipe an identification card at the entrance. The face recognition system then verifies that they are who they claim to be.\n"
      ]
    },
    {
      "cell_type": "markdown",
      "source": [
        "\n",
        "<a name='A.7.1'></a>\n",
        "### A.7.1 - Face Verification\n",
        "\n",
        "Now you'll build a database containing one encoding vector for each person who is allowed to enter the office. To generate the encoding, you'll use `img_to_encoding(image_path, model)`, which runs the forward propagation of the model on the specified image.\n",
        "\n",
        "Run the following code to build the database (represented as a Python dictionary). This database maps each person's name to a 128-dimensional encoding of their face."
      ],
      "metadata": {
        "id": "JgwKV0jzuuOl"
      }
    },
    {
      "cell_type": "code",
      "execution_count": 10,
      "metadata": {
        "id": "MaHMz_0FJQId"
      },
      "outputs": [],
      "source": [
        "def img_to_encoding(image_path, model):\n",
        "    img = tf.keras.preprocessing.image.load_img(image_path, target_size=(160, 160))\n",
        "    img = np.around(np.array(img) / 255.0, decimals=12)\n",
        "    x_train = np.expand_dims(img, axis=0)\n",
        "    embedding = model.predict_on_batch(x_train)\n",
        "    return embedding / np.linalg.norm(embedding, ord=2)"
      ]
    },
    {
      "cell_type": "code",
      "execution_count": 11,
      "metadata": {
        "id": "ILdx1zeYJQId"
      },
      "outputs": [],
      "source": [
        "database = {}\n",
        "database[\"danielle\"] = img_to_encoding(\"images/danielle.png\", FRmodel)\n",
        "database[\"younes\"] = img_to_encoding(\"images/younes.jpg\", FRmodel)\n",
        "database[\"tian\"] = img_to_encoding(\"images/tian.jpg\", FRmodel)\n",
        "database[\"andrew\"] = img_to_encoding(\"images/andrew.jpg\", FRmodel)\n",
        "database[\"kian\"] = img_to_encoding(\"images/kian.jpg\", FRmodel)\n",
        "database[\"dan\"] = img_to_encoding(\"images/dan.jpg\", FRmodel)\n",
        "database[\"sebastiano\"] = img_to_encoding(\"images/sebastiano.jpg\", FRmodel)\n",
        "database[\"bertrand\"] = img_to_encoding(\"images/bertrand.jpg\", FRmodel)\n",
        "database[\"kevin\"] = img_to_encoding(\"images/kevin.jpg\", FRmodel)\n",
        "database[\"felix\"] = img_to_encoding(\"images/felix.jpg\", FRmodel)\n",
        "database[\"benoit\"] = img_to_encoding(\"images/benoit.jpg\", FRmodel)\n",
        "database[\"arnaud\"] = img_to_encoding(\"images/arnaud.jpg\", FRmodel)"
      ]
    },
    {
      "cell_type": "markdown",
      "metadata": {
        "id": "mnx1J7WyJQId"
      },
      "source": [
        "Load the images of Danielle and Kian: "
      ]
    },
    {
      "cell_type": "code",
      "execution_count": 12,
      "metadata": {
        "id": "QmBwSGY5JQId"
      },
      "outputs": [],
      "source": [
        "danielle = tf.keras.preprocessing.image.load_img(\"images/danielle.png\", target_size=(160, 160))"
      ]
    },
    {
      "cell_type": "code",
      "source": [
        "type(danielle)"
      ],
      "metadata": {
        "id": "UWXwJ8n84uiz",
        "outputId": "45745512-8f36-4005-8950-054c932af687",
        "colab": {
          "base_uri": "https://localhost:8080/"
        }
      },
      "execution_count": 13,
      "outputs": [
        {
          "output_type": "execute_result",
          "data": {
            "text/plain": [
              "PIL.Image.Image"
            ]
          },
          "metadata": {},
          "execution_count": 13
        }
      ]
    },
    {
      "cell_type": "code",
      "execution_count": 14,
      "metadata": {
        "id": "AwVdBL_iJQIe",
        "outputId": "3a3fbd39-319e-4aed-fef9-94ce59b626ce",
        "colab": {
          "base_uri": "https://localhost:8080/",
          "height": 177
        }
      },
      "outputs": [
        {
          "output_type": "execute_result",
          "data": {
            "text/plain": [
              "<PIL.Image.Image image mode=RGB size=160x160 at 0x7F0473E44B10>"
            ],
            "image/png": "[encoded data removed]"
          },
          "metadata": {},
          "execution_count": 14
        }
      ],
      "source": [
        "danielle"
      ]
    },
    {
      "cell_type": "markdown",
      "metadata": {
        "id": "oQc3e2P5JQIf"
      },
      "source": [
        "Now, when someone shows up at your front door and swipes their ID card (thus giving you their name), you can look up their encoding in the database, and use it to check if the person standing at the front door matches the name on the ID."
      ]
    },
    {
      "cell_type": "code",
      "execution_count": 15,
      "metadata": {
        "nbgrader": {
          "grade": false,
          "grade_id": "cell-ba2f317e79e15a2f",
          "locked": false,
          "schema_version": 3,
          "solution": true,
          "task": false
        },
        "id": "kmqDC2OlJQIf"
      },
      "outputs": [],
      "source": [
        "def verify(image_path, identity, database, model):\n",
        "    \"\"\"\n",
        "    Function that verifies if the person on the \"image_path\" image is \"identity\".\n",
        "    \n",
        "    Arguments:\n",
        "        image_path -- path to an image\n",
        "        identity -- string, name of the person you'd like to verify the identity. Has to be an employee who works in the office.\n",
        "        database -- python dictionary mapping names of allowed people's names (strings) to their encodings (vectors).\n",
        "        model -- your Inception model instance in Keras\n",
        "    \n",
        "    Returns:\n",
        "        dist -- distance between the image_path and the image of \"identity\" in the database.\n",
        "        door_open -- True, if the door should open. False otherwise.\n",
        "    \"\"\"\n",
        "    # Step 1: Compute the encoding for the image. Use img_to_encoding() see example above. (≈ 1 line)\n",
        "    encoding = img_to_encoding(image_path, model)\n",
        "\n",
        "    # Step 2: Compute distance with identity's image (≈ 1 line)\n",
        "    dist = np.linalg.norm(encoding-database[identity], ord=2)\n",
        "\n",
        "    # Step 3: Open the door if dist < 0.7, else don't open (≈ 3 lines)\n",
        "    if dist < 0.7:\n",
        "        print(\"It's \" + str(identity) + \", welcome in!\")\n",
        "        door_open = True\n",
        "    else:\n",
        "        print(\"It's not \" + str(identity) + \", please go away\")\n",
        "        door_open = False\n",
        "      \n",
        "    return dist, door_open"
      ]
    },
    {
      "cell_type": "markdown",
      "metadata": {
        "id": "HZhYS7T8JQIf"
      },
      "source": [
        "Younes is trying to enter the office and the camera takes a picture of him (\"images/camera_0.jpg\"). Let's run your verification algorithm on this picture:\n",
        "\n",
        "<figure align=\"left\">\n",
        "  <img src=\"https://github.com/fernandoGitHub/ML_Projects/raw/main/Face_Recognition_and_Verification/notebook_images/camera_0.jpg\" style=\"width:380px;height:150px;\">\n",
        "</figure>"
      ]
    },
    {
      "cell_type": "code",
      "execution_count": 16,
      "metadata": {
        "nbgrader": {
          "grade": true,
          "grade_id": "cell-014d077254ad7d52",
          "locked": true,
          "points": 1,
          "schema_version": 3,
          "solution": false,
          "task": false
        },
        "id": "3dG1NyiQJQIf",
        "outputId": "3fc7b3fe-f929-4ff4-8485-577d6466634d",
        "colab": {
          "base_uri": "https://localhost:8080/"
        }
      },
      "outputs": [
        {
          "output_type": "stream",
          "name": "stdout",
          "text": [
            "It's younes, welcome in!\n"
          ]
        },
        {
          "output_type": "execute_result",
          "data": {
            "text/plain": [
              "(0.59929454, True)"
            ]
          },
          "metadata": {},
          "execution_count": 16
        }
      ],
      "source": [
        "verify(\"images/camera_0.jpg\", \"younes\", database, FRmodel)"
      ]
    },
    {
      "cell_type": "markdown",
      "metadata": {
        "id": "NGTTdcAxJQIg"
      },
      "source": [
        "Benoit, who does not work in the office, stole Kian's ID card and tried to enter the office. Naughty Benoit! The camera took a picture of Benoit (\"images/camera_2.jpg). \n",
        "\n",
        "<figure align=\"left\">\n",
        "  <img src=\"https://github.com/fernandoGitHub/ML_Projects/raw/main/Face_Recognition_and_Verification/notebook_images/camera_2.jpg\" style=\"width:380px;height:150px;\">\n",
        "</figure>\n",
        "\n",
        "Run the verification algorithm to check if Benoit can enter."
      ]
    },
    {
      "cell_type": "code",
      "execution_count": 17,
      "metadata": {
        "id": "UusIxG09JQIg",
        "outputId": "6fef205b-21d9-459b-9dfd-d01547fb0706",
        "colab": {
          "base_uri": "https://localhost:8080/"
        }
      },
      "outputs": [
        {
          "output_type": "stream",
          "name": "stdout",
          "text": [
            "It's not kian, please go away\n"
          ]
        },
        {
          "output_type": "execute_result",
          "data": {
            "text/plain": [
              "(1.0259346, False)"
            ]
          },
          "metadata": {},
          "execution_count": 17
        }
      ],
      "source": [
        "verify(\"images/camera_2.jpg\", \"kian\", database, FRmodel)"
      ]
    },
    {
      "cell_type": "markdown",
      "metadata": {
        "id": "EH82x98zJQIg"
      },
      "source": [
        "<a name='A.7.2'></a>\n",
        "### A.7.2 - Face Recognition\n",
        "\n",
        "Our face verification system is mostly working. But since Kian got his ID card stolen, when he came back to the office the next day he couldn't get in!\n",
        "\n",
        "To solve this, we'd like to change your face verification system to a face recognition system. This way, no one has to carry an ID card anymore. An authorized person can just walk up to the building, and the door will unlock for them!\n",
        "\n",
        "We'll implement a face recognition system that takes as input an image, and figures out if it is one of the authorized persons (and if so, who). Unlike the previous face verification system, you will no longer get a person's name as one of the inputs."
      ]
    },
    {
      "cell_type": "code",
      "execution_count": 18,
      "metadata": {
        "nbgrader": {
          "grade": false,
          "grade_id": "cell-a04ff2b5fd1186f8",
          "locked": false,
          "schema_version": 3,
          "solution": true,
          "task": false
        },
        "id": "d4nGkCdhJQIg"
      },
      "outputs": [],
      "source": [
        "def who_is_it(image_path, database, model):\n",
        "    \"\"\"\n",
        "    Implements face recognition for the office by finding who is the person on the image_path image.\n",
        "    \n",
        "    Arguments:\n",
        "        image_path -- path to an image\n",
        "        database -- database containing image encodings along with the name of the person on the image\n",
        "        model -- your Inception model instance in Keras\n",
        "    \n",
        "    Returns:\n",
        "        min_dist -- the minimum distance between image_path encoding and the encodings from the database\n",
        "        identity -- string, the name prediction for the person on image_path\n",
        "    \"\"\"\n",
        "\n",
        "    encoding =  img_to_encoding(image_path, model)\n",
        "    \n",
        "    min_dist = 100\n",
        "    \n",
        "    # Loop over the database dictionary's names and encodings.\n",
        "    for (name, db_enc) in database.items():\n",
        "\n",
        "        dist = np.linalg.norm(encoding-db_enc, ord=2)\n",
        "\n",
        "        if dist < min_dist:\n",
        "            min_dist = dist\n",
        "            identity = name\n",
        "    \n",
        "    if min_dist > 0.7:\n",
        "        print(\"Not in the database.\")\n",
        "    else:\n",
        "        print (\"it's \" + str(identity) + \", the distance is \" + str(min_dist))\n",
        "        \n",
        "    return min_dist, identity"
      ]
    },
    {
      "cell_type": "markdown",
      "metadata": {
        "id": "19zIK4PpJQIh"
      },
      "source": [
        "Younes is at the front door and the camera takes a picture of him (\"images/camera_0.jpg\"). Let's see if your `who_it_is()` algorithm identifies Younes."
      ]
    },
    {
      "cell_type": "code",
      "execution_count": 19,
      "metadata": {
        "nbgrader": {
          "grade": true,
          "grade_id": "cell-9c88c8ab87677503",
          "locked": true,
          "points": 1,
          "schema_version": 3,
          "solution": false,
          "task": false
        },
        "id": "Pk-uIXp1JQIh"
      },
      "outputs": [],
      "source": [
        "person_1 = tf.keras.preprocessing.image.load_img(\"images/camera_0.jpg\", target_size=(160, 160))"
      ]
    },
    {
      "cell_type": "code",
      "source": [
        "person_1"
      ],
      "metadata": {
        "id": "S5NPSLZX8dRX",
        "outputId": "0cf30984-28de-48ea-8e22-df2dabe87083",
        "colab": {
          "base_uri": "https://localhost:8080/",
          "height": 177
        }
      },
      "execution_count": 20,
      "outputs": [
        {
          "output_type": "execute_result",
          "data": {
            "text/plain": [
              "<PIL.Image.Image image mode=RGB size=160x160 at 0x7F0473E01110>"
            ],
            "image/png": "[encoded data removed]"
          },
          "metadata": {},
          "execution_count": 20
        }
      ]
    },
    {
      "cell_type": "code",
      "source": [
        "who_is_it(\"images/camera_0.jpg\", database, FRmodel)"
      ],
      "metadata": {
        "id": "fvzxdm2Q8dV9",
        "outputId": "35eb3af9-9608-4a0a-f40a-06ad1ac09c19",
        "colab": {
          "base_uri": "https://localhost:8080/"
        }
      },
      "execution_count": 21,
      "outputs": [
        {
          "output_type": "stream",
          "name": "stdout",
          "text": [
            "it's younes, the distance is 0.59929454\n"
          ]
        },
        {
          "output_type": "execute_result",
          "data": {
            "text/plain": [
              "(0.59929454, 'younes')"
            ]
          },
          "metadata": {},
          "execution_count": 21
        }
      ]
    },
    {
      "cell_type": "code",
      "source": [
        "person_2 = tf.keras.preprocessing.image.load_img(\"images/younes.jpg\", target_size=(160, 160))"
      ],
      "metadata": {
        "id": "WGQpzQ208dZv"
      },
      "execution_count": 22,
      "outputs": []
    },
    {
      "cell_type": "code",
      "source": [
        "person_2"
      ],
      "metadata": {
        "id": "wKhfjfK-8dde",
        "outputId": "cdc18ea6-2ea8-43fe-a640-251eaa4010a2",
        "colab": {
          "base_uri": "https://localhost:8080/",
          "height": 177
        }
      },
      "execution_count": 23,
      "outputs": [
        {
          "output_type": "execute_result",
          "data": {
            "text/plain": [
              "<PIL.Image.Image image mode=RGB size=160x160 at 0x7F046C9050D0>"
            ],
            "image/png": "[encoded data removed]"
          },
          "metadata": {},
          "execution_count": 23
        }
      ]
    },
    {
      "cell_type": "code",
      "source": [
        "who_is_it(\"images/younes.jpg\", database, FRmodel)"
      ],
      "metadata": {
        "id": "PqPt2SgX8tK_",
        "outputId": "6b83b8ba-bac7-4635-b56f-459e84276d2a",
        "colab": {
          "base_uri": "https://localhost:8080/"
        }
      },
      "execution_count": 24,
      "outputs": [
        {
          "output_type": "stream",
          "name": "stdout",
          "text": [
            "it's younes, the distance is 0.0\n"
          ]
        },
        {
          "output_type": "execute_result",
          "data": {
            "text/plain": [
              "(0.0, 'younes')"
            ]
          },
          "metadata": {},
          "execution_count": 24
        }
      ]
    },
    {
      "cell_type": "markdown",
      "metadata": {
        "id": "052uWMsJJQIh"
      },
      "source": [
        "<font color='blue'>\n",
        "    \n",
        "**What you should remember**:\n",
        "\n",
        "- Face verification solves an easier 1:1 matching problem; face recognition addresses a harder 1:K matching problem.\n",
        "    \n",
        "- Triplet loss is an effective loss function for training a neural network to learn an encoding of a face image.\n",
        "    \n",
        "- The same encoding can be used for verification and recognition. Measuring distances between two images' encodings allows you to determine whether they are pictures of the same person."
      ]
    },
    {
      "cell_type": "markdown",
      "metadata": {
        "id": "XQ30HgQwJQIh"
      },
      "source": [
        "**Ways to improve your facial recognition model**:\n",
        "\n",
        "Although you won't implement these here, here are some ways to further improve the algorithm:\n",
        "\n",
        "- Put more images of each person (under different lighting conditions, taken on different days, etc.) into the database. Then, given a new image, compare the new face to multiple pictures of the person. This would increase accuracy.\n",
        "\n",
        "- Crop the images to contain just the face, and less of the \"border\" region around the face. This preprocessing removes some of the irrelevant pixels around the face, and also makes the algorithm more robust."
      ]
    },
    {
      "cell_type": "markdown",
      "metadata": {
        "id": "b4HO3YlSJQIi"
      },
      "source": [
        "<a name='A.8'></a>\n",
        "## A.8 - References\n",
        "1. Florian Schroff, Dmitry Kalenichenko, James Philbin (2015). [FaceNet: A Unified Embedding for Face Recognition and Clustering](https://arxiv.org/pdf/1503.03832.pdf)\n",
        "\n",
        "2. Yaniv Taigman, Ming Yang, Marc'Aurelio Ranzato, Lior Wolf (2014). [DeepFace: Closing the gap to human-level performance in face verification](https://research.fb.com/wp-content/uploads/2016/11/deepface-closing-the-gap-to-human-level-performance-in-face-verification.pdf)\n",
        "\n",
        "3. This implementation also took a lot of inspiration from the official FaceNet github repository: https://github.com/davidsandberg/facenet\n",
        "\n",
        "4. Further inspiration was found here: https://machinelearningmastery.com/how-to-develop-a-face-recognition-system-using-facenet-in-keras-and-an-svm-classifier/\n",
        "\n",
        "5. And here: https://github.com/nyoki-mtl/keras-facenet/blob/master/notebook/tf_to_keras.ipynb"
      ]
    }
  ],
  "metadata": {
    "celltoolbar": "Raw Cell Format",
    "kernelspec": {
      "display_name": "Python 3",
      "language": "python",
      "name": "python3"
    },
    "language_info": {
      "codemirror_mode": {
        "name": "ipython",
        "version": 3
      },
      "file_extension": ".py",
      "mimetype": "text/x-python",
      "name": "python",
      "nbconvert_exporter": "python",
      "pygments_lexer": "ipython3",
      "version": "3.7.6"
    },
    "colab": {
      "name": "Face_Verification_and_Recognition.ipynb",
      "provenance": [],
      "collapsed_sections": [],
      "toc_visible": true,
      "include_colab_link": true
    }
  },
  "nbformat": 4,
  "nbformat_minor": 0
}