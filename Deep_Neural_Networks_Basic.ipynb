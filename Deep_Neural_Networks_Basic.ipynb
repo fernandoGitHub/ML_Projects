{
  "cells": [
    {
      "cell_type": "markdown",
      "metadata": {
        "id": "view-in-github",
        "colab_type": "text"
      },
      "source": [
        "<a href=\"https://colab.research.google.com/github/fernandoGitHub/ML_Projects/blob/main/Deep_Neural_Networks_Basic.ipynb\" target=\"_parent\"><img src=\"https://colab.research.google.com/assets/colab-badge.svg\" alt=\"Open In Colab\"/></a>"
      ]
    },
    {
      "cell_type": "markdown",
      "metadata": {
        "id": "0NDi8-Da1Q-O"
      },
      "source": [
        "# Deep Learning Library\n",
        "\n",
        "This is a Deep Learning package I created adapted to my needs (based on the packages provided as exercise in Coursera's Deep Learning Specialization)\n",
        "I will use it as a baseline when learning TensorFlow and Keras"
      ]
    },
    {
      "cell_type": "markdown",
      "metadata": {
        "id": "fkSc3ORp1Q-a"
      },
      "source": [
        "<a name='1'></a>\n",
        "## 1 - Packages"
      ]
    },
    {
      "cell_type": "code",
      "source": [
        "!pip install -Uqq ipdb\n",
        "import ipdb\n",
        "%pdb on"
      ],
      "metadata": {
        "colab": {
          "base_uri": "https://localhost:8080/"
        },
        "id": "weVHEGGs7pkL",
        "outputId": "483b8bf1-2d02-4f98-d9bd-ff0aa190a1be"
      },
      "execution_count": 1,
      "outputs": [
        {
          "output_type": "stream",
          "name": "stdout",
          "text": [
            "Automatic pdb calling has been turned ON\n"
          ]
        }
      ]
    },
    {
      "cell_type": "code",
      "execution_count": 2,
      "metadata": {
        "id": "OO88dEkF1Q-b"
      },
      "outputs": [],
      "source": [
        "import numpy as np\n",
        "import matplotlib.pyplot as plt\n",
        "import sklearn\n",
        "import sklearn.datasets\n",
        "\n",
        "#from public_tests import *\n",
        "\n",
        "%matplotlib inline\n",
        "plt.rcParams['figure.figsize'] = (7.0, 4.0) # set default size of plots\n",
        "plt.rcParams['image.interpolation'] = 'nearest'\n",
        "plt.rcParams['image.cmap'] = 'gray'\n",
        "\n",
        "%load_ext autoreload\n",
        "%autoreload 2\n"
      ]
    },
    {
      "cell_type": "code",
      "source": [
        "def plot_2D_decision_boundary(model, X, Y):\n",
        "    # Set min and max values and give it some padding\n",
        "    x_min, x_max = X[0, :].min() - 1, X[0, :].max() + 1\n",
        "    y_min, y_max = X[1, :].min() - 1, X[1, :].max() + 1\n",
        "    h = 0.01\n",
        "    # Generate a grid of points with distance h between them\n",
        "    xx, yy = np.meshgrid(np.arange(x_min, x_max, h), np.arange(y_min, y_max, h))\n",
        "    # Predict the function value for the whole grid\n",
        "    Z = model(np.c_[xx.ravel(), yy.ravel()])\n",
        "    Z = Z.reshape(xx.shape)\n",
        "    # Plot the contour and training examples\n",
        "    plt.contourf(xx, yy, Z, cmap=plt.cm.Spectral)\n",
        "    plt.ylabel('x2')\n",
        "    plt.xlabel('x1')\n",
        "    plt.scatter(X[0, :], X[1, :], c=y, cmap=plt.cm.Spectral)\n",
        "    plt.show()\n",
        "\n",
        "\n",
        "def load_dataset(dataset='circles', n_train_samples=300, n_test_samples=100, train_noise=.05, test_noise=.05):\n",
        "    if dataset != 'circles':\n",
        "      return None, None, None, None\n",
        "\n",
        "    train_X, train_Y = sklearn.datasets.make_circles(n_samples=n_train_samples, noise=train_noise)\n",
        "    test_X, test_Y = sklearn.datasets.make_circles(n_samples=n_test_samples, noise=test_noise)\n",
        "    # Visualize the data\n",
        "    plt.scatter(train_X[:, 0], train_X[:, 1], c=train_Y, s=40, cmap=plt.cm.Spectral);\n",
        "    train_X = train_X.T\n",
        "    train_Y = train_Y.reshape((1, train_Y.shape[0]))\n",
        "    test_X = test_X.T\n",
        "    test_Y = test_Y.reshape((1, test_Y.shape[0]))\n",
        "    return train_X, train_Y, test_X, test_Y"
      ],
      "metadata": {
        "id": "MnfaIx_A5dRw"
      },
      "execution_count": 3,
      "outputs": []
    },
    {
      "cell_type": "markdown",
      "source": [
        "## 2 - NN Functions"
      ],
      "metadata": {
        "id": "xXHsNCLk2Her"
      }
    },
    {
      "cell_type": "code",
      "source": [
        "#@title\n",
        "def sigmoid(Z):\n",
        "  \"\"\"\n",
        "  Implements the sigmoid activation in numpy\n",
        "  Arguments:\n",
        "  Z -- numpy array of any shape\n",
        "  Returns:\n",
        "  A -- output of sigmoid(z), same shape as Z\n",
        "  cache -- returns Z as well, useful during backpropagation\n",
        "  \"\"\"\n",
        "  A = 1/(1+np.exp(-Z))\n",
        "  cache = Z\n",
        "  return A, cache\n",
        "\n",
        "\n",
        "def relu(Z):\n",
        "  \"\"\"\n",
        "  Implement the RELU function.\n",
        "  Arguments:\n",
        "  Z -- Output of the linear layer, of any shape\n",
        "  Returns:\n",
        "  A -- Post-activation parameter, of the same shape as Z\n",
        "  cache -- a python dictionary containing \"A\" ; stored for computing the backward pass efficiently\n",
        "  \"\"\"  \n",
        "  A = np.maximum(0,Z)\n",
        "  assert(A.shape == Z.shape)\n",
        "  cache = Z \n",
        "  return A, cache\n",
        "\n",
        "\n",
        "def relu_backward(dA, cache):\n",
        "  \"\"\"\n",
        "  Implement the backward propagation for a single RELU unit.\n",
        "  Arguments:\n",
        "  dA -- post-activation gradient, of any shape\n",
        "  cache -- 'Z' where we store for computing backward propagation efficiently\n",
        "  Returns:\n",
        "  dZ -- Gradient of the cost with respect to Z\n",
        "  \"\"\"\n",
        "  Z = cache\n",
        "  dZ = np.array(dA, copy=True) # just converting dz to a correct object.\n",
        "\n",
        "  # When z <= 0, you should set dz to 0 as well. \n",
        "  dZ[Z <= 0] = 0\n",
        "  \n",
        "  assert (dZ.shape == Z.shape)\n",
        "  return dZ\n",
        "\n",
        "\n",
        "def sigmoid_backward(dA, cache):\n",
        "  \"\"\"\n",
        "  Implement the backward propagation for a single SIGMOID unit.\n",
        "  Arguments:\n",
        "  dA -- post-activation gradient, of any shape\n",
        "  cache -- 'Z' where we store for computing backward propagation efficiently\n",
        "  Returns:\n",
        "  dZ -- Gradient of the cost with respect to Z\n",
        "  \"\"\"\n",
        "  Z = cache\n",
        "  s = 1/(1+np.exp(-Z))\n",
        "  dZ = dA * s * (1-s)\n",
        "  \n",
        "  assert (dZ.shape == Z.shape)\n",
        "  return dZ\n",
        "\n",
        "\n",
        "def initialize_NN_parameters(layer_def):\n",
        "  \"\"\"\n",
        "  Arguments:\n",
        "  layers_def -- python array (list) containing a tuple for each layer (dim, activation_fn)\n",
        "  Returns:\n",
        "  parameters -- python dictionary containing your parameters \"W1\", \"b1\", ..., \"WL\", \"bL\":\n",
        "                  Wl -- weight matrix of shape (layer_dims[l], layer_dims[l-1])\n",
        "                  bl -- bias vector of shape (layer_dims[l], 1)\n",
        "                  Act_fnl - the activation function name (e.g., \"sigmoid\", \"relu\", etc.) of type str\n",
        "                  L -- the number of layers in the NN\n",
        "  \"\"\"\n",
        "  parameters = {}\n",
        "  L = len(layer_def)\n",
        "  parameters['L'] = L  \n",
        "\n",
        "  for l in range(1, L):\n",
        "    parameters['W' + str(l)] = np.random.randn(layer_def[l][0], layer_def[l-1][0]) / np.sqrt(layer_def[l-1][0]) \n",
        "    parameters['b' + str(l)] = np.zeros((layer_def[l][0], 1))\n",
        "    parameters['Act_fn' + str(l)] = layer_def[l][1]\n",
        "    \n",
        "    assert(parameters['W' + str(l)].shape == (layer_def[l][0], layer_def[l-1][0]))\n",
        "    assert(parameters['b' + str(l)].shape == (layer_def[l][0], 1))\n",
        "      \n",
        "  return parameters\n",
        "\n",
        "\n",
        "def linear_forward(A, W, b):\n",
        "  \"\"\"\n",
        "  Implement the linear part of a layer's forward propagation.\n",
        "  Arguments:\n",
        "  A -- activations from previous layer (or input data): (size of previous layer, number of examples)\n",
        "  W -- weights matrix: numpy array of shape (size of current layer, size of previous layer)\n",
        "  b -- bias vector, numpy array of shape (size of the current layer, 1)\n",
        "  Returns:\n",
        "  Z -- the input of the activation function, also called pre-activation parameter \n",
        "  cache -- a python dictionary containing \"A\", \"W\" and \"b\" ; stored for computing the backward pass efficiently\n",
        "  \"\"\"\n",
        "  Z = W.dot(A) + b\n",
        "  assert(Z.shape == (W.shape[0], A.shape[1]))\n",
        "  cache = (A, W, b)\n",
        "  \n",
        "  return Z, cache\n",
        "\n",
        "\n",
        "def linear_activation_forward(A_prev, W, b, activation):\n",
        "  \"\"\"\n",
        "  Implement the forward propagation for the LINEAR->ACTIVATION layer\n",
        "  Arguments:\n",
        "  A_prev -- activations from previous layer (or input data): (size of previous layer, number of examples)\n",
        "  W -- weights matrix: numpy array of shape (size of current layer, size of previous layer)\n",
        "  b -- bias vector, numpy array of shape (size of the current layer, 1)\n",
        "  activation -- the activation to be used in this layer, stored as a text string: \"sigmoid\" or \"relu\"\n",
        "  Returns:\n",
        "  A -- the output of the activation function, also called the post-activation value \n",
        "  cache -- a python dictionary containing \"linear_cache\" and \"activation_cache\";\n",
        "            stored for computing the backward pass efficiently\n",
        "  \"\"\"\n",
        "  if activation == \"sigmoid\":\n",
        "      # Inputs: \"A_prev, W, b\". Outputs: \"A, activation_cache\".\n",
        "      Z, linear_cache = linear_forward(A_prev, W, b)\n",
        "      A, activation_cache = sigmoid(Z)\n",
        "  \n",
        "  elif activation == \"relu\":\n",
        "      # Inputs: \"A_prev, W, b\". Outputs: \"A, activation_cache\".\n",
        "      Z, linear_cache = linear_forward(A_prev, W, b)\n",
        "      A, activation_cache = relu(Z)\n",
        "  \n",
        "  assert (A.shape == (W.shape[0], A_prev.shape[1]))\n",
        "  cache = (linear_cache, activation_cache)\n",
        "\n",
        "  return A, cache\n",
        "\n",
        "\n",
        "def L_model_forward(X, parameters):\n",
        "  \"\"\"\n",
        "  Implements forward propagation\n",
        "  Arguments:\n",
        "  X -- data, numpy array of shape (input size, number of examples)\n",
        "  parameters -- output of initialize_NN_parameters()\n",
        "  Returns:\n",
        "  AL -- last post-activation value\n",
        "  caches -- list of caches containing:\n",
        "              every cache of linear_relu_forward() (there are L-1 of them, indexed from 0 to L-2)\n",
        "              the cache of linear_activation_forward() (there is one, indexed L-1)\n",
        "  \"\"\"\n",
        "  caches = []\n",
        "  A = X\n",
        "  L = parameters['L']\n",
        "\n",
        "  for l in range(1, L-1):\n",
        "    A_prev = A \n",
        "    A, cache = linear_activation_forward(A_prev, parameters['W' + str(l)], parameters['b' + str(l)], activation = parameters['Act_fn' + str(l)])\n",
        "    caches.append(cache)\n",
        "\n",
        "  AL, cache = linear_activation_forward(A, parameters['W' + str(L-1)], parameters['b' + str(L-1)], activation = parameters['Act_fn' + str(L-1)])\n",
        "  caches.append(cache)\n",
        "  \n",
        "  assert(AL.shape == (1,X.shape[1]))     \n",
        "  return AL, caches\n",
        "\n",
        "\n",
        "def compute_cost(AL, Y):\n",
        "  \"\"\"\n",
        "  Implement the cost function defined by equation (7).\n",
        "  Arguments:\n",
        "  AL -- probability vector corresponding to your label predictions, shape (1, number of examples)\n",
        "  Y -- true \"label\" vector (for example: containing 0 if non-cat, 1 if cat), shape (1, number of examples)\n",
        "  Returns:\n",
        "  cost -- cross-entropy cost\n",
        "  \"\"\"\n",
        "  m = Y.shape[1]\n",
        "\n",
        "  # Compute loss from aL and y.\n",
        "  cost = (1./m) * (-np.dot(Y,np.log(AL).T) - np.dot(1-Y, np.log(1-AL).T))\n",
        "  cost = np.squeeze(cost)      # To make sure your cost's shape is what we expect (e.g. this turns [[17]] into 17).\n",
        "  \n",
        "  assert(cost.shape == ())\n",
        "  return cost\n",
        "\n",
        "\n",
        "\n",
        "def linear_backward(dZ, cache):\n",
        "  \"\"\"\n",
        "  Implement the linear portion of backward propagation for a single layer (layer l)\n",
        "  Arguments:\n",
        "  dZ -- Gradient of the cost with respect to the linear output (of current layer l)\n",
        "  cache -- tuple of values (A_prev, W, b) coming from the forward propagation in the current layer\n",
        "  Returns:\n",
        "  dA_prev -- Gradient of the cost with respect to the activation (of the previous layer l-1), same shape as A_prev\n",
        "  dW -- Gradient of the cost with respect to W (current layer l), same shape as W\n",
        "  db -- Gradient of the cost with respect to b (current layer l), same shape as b\n",
        "  \"\"\"\n",
        "  A_prev, W, b = cache\n",
        "  m = A_prev.shape[1]\n",
        "  dW = 1./m * np.dot(dZ,A_prev.T)\n",
        "  db = 1./m * np.sum(dZ, axis = 1, keepdims = True)\n",
        "  dA_prev = np.dot(W.T,dZ)\n",
        "  \n",
        "  assert (dA_prev.shape == A_prev.shape)\n",
        "  assert (dW.shape == W.shape)\n",
        "  assert (db.shape == b.shape)\n",
        "  return dA_prev, dW, db\n",
        "\n",
        "\n",
        "\n",
        "def linear_activation_backward(dA, cache, activation):\n",
        "  \"\"\"\n",
        "  Implement the backward propagation for the LINEAR->ACTIVATION layer.\n",
        "  Arguments:\n",
        "  dA -- post-activation gradient for current layer l \n",
        "  cache -- tuple of values (linear_cache, activation_cache) we store for computing backward propagation efficiently\n",
        "  activation -- the activation to be used in this layer, stored as a text string: \"sigmoid\" or \"relu\"\n",
        "  Returns:\n",
        "  dA_prev -- Gradient of the cost with respect to the activation (of the previous layer l-1), same shape as A_prev\n",
        "  dW -- Gradient of the cost with respect to W (current layer l), same shape as W\n",
        "  db -- Gradient of the cost with respect to b (current layer l), same shape as b\n",
        "  \"\"\"\n",
        "  linear_cache, activation_cache = cache\n",
        "\n",
        "  if activation == \"relu\":\n",
        "      dZ = relu_backward(dA, activation_cache)\n",
        "      dA_prev, dW, db = linear_backward(dZ, linear_cache)\n",
        "      \n",
        "  elif activation == \"sigmoid\":\n",
        "      dZ = sigmoid_backward(dA, activation_cache)\n",
        "      dA_prev, dW, db = linear_backward(dZ, linear_cache)\n",
        "  \n",
        "  return dA_prev, dW, db\n",
        "\n",
        "\n",
        "\n",
        "def L_model_backward(AL, Y, caches):\n",
        "  \"\"\"\n",
        "  Implement the backward propagation for the [LINEAR->RELU] * (L-1) -> LINEAR -> SIGMOID group\n",
        "  Arguments:\n",
        "  AL -- probability vector, output of the forward propagation (L_model_forward())\n",
        "  Y -- true \"label\" vector (containing 0 if non-cat, 1 if cat)\n",
        "  caches -- list of caches containing:\n",
        "              every cache of linear_activation_forward() with \"relu\" (there are (L-1) or them, indexes from 0 to L-2)\n",
        "              the cache of linear_activation_forward() with \"sigmoid\" (there is one, index L-1)\n",
        "  Returns:\n",
        "  grads -- A dictionary with the gradients\n",
        "            grads[\"dA\" + str(l)] = ... \n",
        "            grads[\"dW\" + str(l)] = ...\n",
        "            grads[\"db\" + str(l)] = ... \n",
        "  \"\"\"\n",
        "  grads = {}\n",
        "  L = len(caches) # the number of layers\n",
        "  m = AL.shape[1]\n",
        "  Y = Y.reshape(AL.shape) # after this line, Y is the same shape as AL\n",
        "  \n",
        "  # Initializing the backpropagation\n",
        "  dAL = - (np.divide(Y, AL) - np.divide(1 - Y, 1 - AL))\n",
        "  \n",
        "  # Lth layer (SIGMOID -> LINEAR) gradients. Inputs: \"AL, Y, caches\". Outputs: \"grads[\"dAL\"], grads[\"dWL\"], grads[\"dbL\"]\n",
        "  current_cache = caches[L-1]\n",
        "  grads[\"dA\" + str(L-1)], grads[\"dW\" + str(L)], grads[\"db\" + str(L)] = linear_activation_backward(dAL, current_cache, activation = \"sigmoid\")\n",
        "  \n",
        "  for l in reversed(range(L-1)):\n",
        "    # lth layer: (RELU -> LINEAR) gradients.\n",
        "    current_cache = caches[l]\n",
        "    dA_prev_temp, dW_temp, db_temp = linear_activation_backward(grads[\"dA\" + str(l + 1)], current_cache, activation = \"relu\")\n",
        "    grads[\"dA\" + str(l)] = dA_prev_temp\n",
        "    grads[\"dW\" + str(l + 1)] = dW_temp\n",
        "    grads[\"db\" + str(l + 1)] = db_temp\n",
        "\n",
        "  return grads\n",
        "\n",
        "\n",
        "\n",
        "def update_parameters(parameters, grads, learning_rate):\n",
        "  \"\"\"\n",
        "  Update parameters using gradient descent\n",
        "  Arguments:\n",
        "  parameters -- python dictionary containing your parameters \n",
        "  grads -- python dictionary containing your gradients, output of L_model_backward\n",
        "  Returns:\n",
        "  parameters -- updated\n",
        "  \"\"\"\n",
        "  L = parameters['L']\n",
        "\n",
        "  # Update rule for each parameter. Use a for loop.\n",
        "  for l in range(1, L):\n",
        "      parameters[\"W\" + str(l)] = parameters[\"W\" + str(l)] - learning_rate * grads[\"dW\" + str(l)]\n",
        "      parameters[\"b\" + str(l)] = parameters[\"b\" + str(l)] - learning_rate * grads[\"db\" + str(l)]\n",
        "      \n",
        "  return parameters\n",
        "\n",
        "\n",
        "\n",
        "def predict(X, y, parameters):\n",
        "  \"\"\"\n",
        "  This function is used to predict the results of a  L-layer neural network.\n",
        "  Arguments:\n",
        "  X -- data set of examples you would like to label\n",
        "  parameters -- parameters of the trained model\n",
        "  Returns:\n",
        "  p -- predictions for the given dataset X\n",
        "  \"\"\"\n",
        "  m = X.shape[1]\n",
        "  n = len(parameters) // 2 # number of layers in the neural network\n",
        "  p = np.zeros((1,m))\n",
        "  \n",
        "  # Forward propagation\n",
        "  probas, caches = L_model_forward(X, parameters)\n",
        "\n",
        "  # convert probas to 0/1 predictions\n",
        "  for i in range(0, probas.shape[1]):\n",
        "      if probas[0,i] > 0.5:\n",
        "          p[0,i] = 1\n",
        "      else:\n",
        "          p[0,i] = 0\n",
        "  \n",
        "  print(\"Accuracy: \"  + str(np.sum((p == y)/m)))\n",
        "      \n",
        "  return p"
      ],
      "metadata": {
        "cellView": "form",
        "id": "PPPU-_BA18tU"
      },
      "execution_count": 4,
      "outputs": []
    },
    {
      "cell_type": "code",
      "source": [
        "#@title\n",
        "def train_NN_model(X, Y, layers_def, learning_rate = 0.0075, num_iterations = 3000, print_cost=False):\n",
        "  \"\"\"\n",
        "  Implements a L-layer neural network\n",
        "  Arguments:\n",
        "  X -- data, numpy array of shape (num_px * num_px * 3, number of examples)\n",
        "  Y -- true \"label\" vector (containing 0 if cat, 1 if non-cat), of shape (1, number of examples)\n",
        "  layers_def -- list containing the input size and activation function, of length (number of layers + 1).\n",
        "  learning_rate -- learning rate of the gradient descent update rule\n",
        "  num_iterations -- number of iterations of the optimization loop\n",
        "  print_cost -- if True, it prints the cost every 100 steps\n",
        "  \n",
        "  Returns:\n",
        "  parameters -- parameters learnt by the model. They can then be used to predict.\n",
        "  \"\"\"\n",
        "  costs = []                         \n",
        "  parameters = initialize_NN_parameters(layers_def)\n",
        "  print_interval = int(num_iterations / 20)\n",
        "  \n",
        "  # Loop (gradient descent)\n",
        "  for i in range(0, num_iterations):\n",
        "    AL, caches = L_model_forward(X=X, parameters=parameters)\n",
        "    cost = compute_cost(AL=AL, Y=Y)\n",
        "    grads = L_model_backward(AL=AL, Y=Y, caches=caches)\n",
        "    parameters = update_parameters(parameters=parameters, grads=grads, learning_rate=learning_rate)\n",
        "            \n",
        "    # Print the cost every 100 iterations\n",
        "    if print_cost and i % print_interval == 0 or i == num_iterations - 1:\n",
        "        print(\"Cost after iteration {}: {}\".format(i, np.squeeze(cost)))\n",
        "    if i % 100 == 0 or i == num_iterations:\n",
        "        costs.append(cost)\n",
        "    \n",
        "  return parameters, costs\n",
        "\n",
        "\n",
        "def build_model(learning_rate = 0.01, num_iterations = 1000):\n",
        "  model = {}\n",
        "  model['learning_rate'] = learning_rate\n",
        "  model['num_iterations'] = num_iterations\n",
        "\n",
        "  return model\n"
      ],
      "metadata": {
        "cellView": "form",
        "id": "xoliPK8qCJ9Y"
      },
      "execution_count": 5,
      "outputs": []
    },
    {
      "cell_type": "code",
      "source": [
        "class DeepNeuralNetwork():\n",
        "\n",
        "  def __init__(self):\n",
        "    # Define default values\n",
        "    self._W = []                    # Array of weights - e.g., W1, W2, W3, ... WL+1\n",
        "    self._b = []                    # Array of biases - e.g., b1, b2, b3, ..., bL+1\n",
        "    self._layers_size = [0]         # Array of layers' size (includes input and output)\n",
        "    self._activations_fn = [None]   # Array of activation functions for all the layers (None for the input layer)    \n",
        "\n",
        "  def infer_input_layer(self, X):\n",
        "    # Assert list is empty\n",
        "    features = X.shape[0]\n",
        "    self._layers_size[0] = features\n",
        "    print(f'Model - added input layer \\t\\t Size = {features}')\n",
        "\n",
        "  def add_hidden_layer(self, num_units=5, activation_fn='relu'):\n",
        "    self._layers_size.append(num_units)\n",
        "    self._activations_fn.append(activation_fn)\n",
        "    print(f'Model - added hidden layer no: {len(self._layers_size)-1} \\t Size = {num_units} \\t Activation function = {activation_fn}')\n",
        "\n",
        "  def add_output_layer(self, num_outputs=1, activation_fn='sigmoid'):\n",
        "    # Assert list has input and at least one hidden layer\n",
        "    self._layers_size.append(num_outputs)\n",
        "    self._activations_fn.append(activation_fn)\n",
        "    print(f'Model - Added output layer \\t\\t Size = {num_outputs} \\t Activation function = {activation_fn}')\n",
        "\n",
        "  def _get_deep(self):\n",
        "    return len(self._layers_size)\n",
        "\n",
        "  def _initialize(self):\n",
        "    L = self._get_deep()\n",
        "    self._W = [None] * (L)\n",
        "    self._b = [None] * (L)\n",
        "\n",
        "    # Index 0 is used by the input layer\n",
        "    # We need to include the output layer\n",
        "    for l in range(1, L):                 \n",
        "      curr = self._layers_size[l]\n",
        "      prev = self._layers_size[l-1]\n",
        "      self._W[l] = np.random.randn(curr, prev) * np.sqrt(2/prev) \n",
        "      self._b[l] = np.zeros((curr, 1))\n",
        "      assert(self._W[l].shape == (curr, prev))\n",
        "      assert(self._b[l].shape == (curr, 1))\n",
        "    \n",
        "\n",
        "\n",
        "  def _sigmoid(self, Z):\n",
        "    A = 1/(1+np.exp(-Z))\n",
        "    cache = Z\n",
        "    return A, cache\n",
        "\n",
        "\n",
        "  def _relu(self, Z):\n",
        "    A = np.maximum(0,Z)\n",
        "    assert(A.shape == Z.shape)\n",
        "    cache = Z \n",
        "    return A, cache\n",
        "\n",
        "\n",
        "  def _relu_backward(self, dA, cache):\n",
        "    Z = cache\n",
        "    dZ = np.array(dA, copy=True) # just converting dz to a correct object.\n",
        "    # When z <= 0, you should set dz to 0 as well. \n",
        "    #ipdb.set_trace(6)\n",
        "    dZ[Z <= 0] = 0  \n",
        "    assert (dZ.shape == Z.shape)\n",
        "    return dZ\n",
        "\n",
        "\n",
        "  def _sigmoid_backward(self, dA, cache):\n",
        "    Z = cache\n",
        "    s = 1/(1+np.exp(-Z))\n",
        "    dZ = dA * s * (1-s)\n",
        "    assert (dZ.shape == Z.shape)\n",
        "    return dZ\n",
        "\n",
        "\n",
        "  def _linear_forward(self, A, W, b):\n",
        "    Z = W.dot(A) + b\n",
        "    assert(Z.shape == (W.shape[0], A.shape[1]))\n",
        "    cache = (A, W, b)\n",
        "    return Z, cache\n",
        "\n",
        "\n",
        "  def _linear_activation_forward(self, A_prev, W, b, activation):\n",
        "    Z, linear_cache = self._linear_forward(A_prev, W, b)\n",
        "    if activation == \"sigmoid\":\n",
        "        A, activation_cache = self._sigmoid(Z)\n",
        "    elif activation == \"relu\":\n",
        "        A, activation_cache = self._relu(Z)   \n",
        "    assert (A.shape == (W.shape[0], A_prev.shape[1]))\n",
        "    cache = (linear_cache, activation_cache)\n",
        "    return A, cache\n",
        "\n",
        "\n",
        "\n",
        "  def _model_forward(self, X):\n",
        "    L = self._get_deep()\n",
        "    caches = [None] * L\n",
        "    A = X\n",
        "\n",
        "    for l in range(1, L):\n",
        "      A_prev = A \n",
        "      A, cache = self._linear_activation_forward(A_prev, self._W[l], self._b[l], activation=self._activations_fn[l])\n",
        "      caches[l] = cache\n",
        "    \n",
        "    assert(A.shape == (1,X.shape[1]))     \n",
        "    return A, caches\n",
        "\n",
        "\n",
        "  def _compute_cost(self, AL, Y):\n",
        "    m = Y.shape[1]\n",
        "    cost = (1./m) * (-np.dot(Y,np.log(AL).T) - np.dot(1-Y, np.log(1-AL).T))\n",
        "    cost = np.squeeze(cost)      # To make sure your cost's shape is what we expect (e.g. this turns [[17]] into 17).   \n",
        "    assert(cost.shape == ())\n",
        "    return cost\n",
        "\n",
        "\n",
        "  def _linear_backward(self, dZ, cache):\n",
        "    A_prev, W, b = cache\n",
        "    m = A_prev.shape[1]\n",
        "    dW = 1./m * np.dot(dZ,A_prev.T)\n",
        "    db = 1./m * np.sum(dZ, axis = 1, keepdims = True)\n",
        "    dA_prev = np.dot(W.T,dZ)   \n",
        "    assert (dA_prev.shape == A_prev.shape)\n",
        "    assert (dW.shape == W.shape)\n",
        "    assert (db.shape == b.shape)\n",
        "    return dA_prev, dW, db\n",
        "\n",
        "\n",
        "  def _linear_activation_backward(self, dA, cache, activation):\n",
        "    linear_cache, activation_cache = cache\n",
        "\n",
        "    if activation == \"relu\":\n",
        "        dZ = self._relu_backward(dA, activation_cache)\n",
        "        \n",
        "    elif activation == \"sigmoid\":\n",
        "        dZ = self._sigmoid_backward(dA, activation_cache)\n",
        "        \n",
        "    dA_prev, dW, db = self._linear_backward(dZ, linear_cache)\n",
        "    return dA_prev, dW, db\n",
        "\n",
        "\n",
        "\n",
        "  def _model_backward(self, AL, Y, caches):\n",
        "    L = self._get_deep()\n",
        "    m = AL.shape[1]\n",
        "    Y = Y.reshape(AL.shape) # after this line, Y is the same shape as AL\n",
        "    # Initializing the backpropagation\n",
        "    dAL = - (np.divide(Y, AL) - np.divide(1 - Y, 1 - AL))\n",
        "    #ipdb.set_trace(context=6)\n",
        "\n",
        "    dA = [None] * L\n",
        "    dW = [None] * L\n",
        "    db = [None] * L\n",
        "\n",
        "    dA[L-1], dW[L-1], db[L-1] = self._linear_activation_backward(dA=dAL, cache=caches[L-1], activation=self._activations_fn[L-1])\n",
        "\n",
        "    for l in reversed(range(1, L-1)):\n",
        "      dA[l], dW[l], db[l] = self._linear_activation_backward(dA[l+1], caches[l], activation=self._activations_fn[l])\n",
        "\n",
        "    return dW, db\n",
        "\n",
        "\n",
        "\n",
        "  def _update_parameters(self, dW, db, learning_rate):\n",
        "    L = self._get_deep()\n",
        "    # Update rule for each parameter. Use a for loop.\n",
        "    for l in range(1, L):\n",
        "        self._W[l] = self._W[l] - learning_rate * dW[l]\n",
        "        self._b[l] = self._b[l] - learning_rate * db[l]\n",
        "\n",
        "\n",
        "\n",
        "  def test(self, X, Y):\n",
        "    m = X.shape[1]\n",
        "    p = np.zeros((1,m))\n",
        "    \n",
        "    # Forward propagation\n",
        "    probas, caches = self._model_forward(X)\n",
        "\n",
        "    # convert probas to 0/1 predictions\n",
        "    for i in range(0, probas.shape[1]):\n",
        "        if probas[0,i] > 0.5:\n",
        "            p[0,i] = 1\n",
        "        else:\n",
        "            p[0,i] = 0\n",
        "    \n",
        "    accuracy = np.sum((p == Y)/m)\n",
        "    #print(\"Accuracy: \"  + str(np.sum((p == Y)/m)))\n",
        "    return accuracy, p\n",
        "\n",
        "\n",
        "  def fit(self, X, Y, learning_rate = 0.0075, num_iterations = 3000, print_cost=False):\n",
        "    costs = []\n",
        "    self._initialize()                         \n",
        "    print_interval = int(num_iterations / 20)\n",
        "    \n",
        "    # Loop (gradient descent)\n",
        "    for i in range(0, num_iterations):\n",
        "      AL, caches = self._model_forward(X=X)\n",
        "      cost = self._compute_cost(AL=AL, Y=Y)\n",
        "      dW, db = self._model_backward(AL=AL, Y=Y, caches=caches)\n",
        "      self._update_parameters(dW, db, learning_rate=learning_rate)\n",
        "              \n",
        "      # Print the cost every 100 iterations\n",
        "      if print_cost and i % print_interval == 0 or i == num_iterations - 1:\n",
        "          print(\"Cost after iteration {}: {}\".format(i, np.squeeze(cost)))\n",
        "      if i % 100 == 0 or i == num_iterations:\n",
        "          costs.append(cost)\n",
        "      \n",
        "    return costs\n"
      ],
      "metadata": {
        "id": "FX0BLl1Yxezy"
      },
      "execution_count": 10,
      "outputs": []
    },
    {
      "cell_type": "code",
      "source": [
        "train_X, train_Y, test_X, test_Y = load_dataset(train_noise = .05, test_noise = .05)"
      ],
      "metadata": {
        "colab": {
          "base_uri": "https://localhost:8080/",
          "height": 265
        },
        "id": "3Vj5P4Qn_eoo",
        "outputId": "c533004d-df1e-4596-9afe-5798256dec39"
      },
      "execution_count": 7,
      "outputs": [
        {
          "output_type": "display_data",
          "data": {
            "text/plain": [
              "<Figure size 504x288 with 1 Axes>"
            ],
            "image/png": "[encoded data removed]"
          },
          "metadata": {
            "needs_background": "light"
          }
        }
      ]
    },
    {
      "cell_type": "code",
      "source": [
        "# UNITEST\n",
        "my_NN = DeepNeuralNetwork()\n",
        "my_NN.infer_input_layer(train_X)\n",
        "my_NN.add_hidden_layer(16, 'relu')\n",
        "my_NN.add_hidden_layer(16, 'relu')\n",
        "my_NN.add_hidden_layer(16, 'relu')\n",
        "my_NN.add_hidden_layer(16, 'relu')\n",
        "my_NN.add_output_layer(1, 'sigmoid')\n",
        "costs = my_NN.fit(X=train_X, Y=train_Y, num_iterations=50000, print_cost=True)"
      ],
      "metadata": {
        "colab": {
          "base_uri": "https://localhost:8080/"
        },
        "id": "KRfTOZS1MVCB",
        "outputId": "e25ad06d-d512-4565-a172-0796a077da4e"
      },
      "execution_count": 13,
      "outputs": [
        {
          "output_type": "stream",
          "name": "stdout",
          "text": [
            "Model - added input layer \t\t Size = 2\n",
            "Model - added hidden layer no: 1 \t Size = 16 \t Activation function = relu\n",
            "Model - added hidden layer no: 2 \t Size = 16 \t Activation function = relu\n",
            "Model - added hidden layer no: 3 \t Size = 16 \t Activation function = relu\n",
            "Model - added hidden layer no: 4 \t Size = 16 \t Activation function = relu\n",
            "Model - Added output layer \t\t Size = 1 \t Activation function = sigmoid\n",
            "Cost after iteration 0: 0.7373600253407522\n",
            "Cost after iteration 2500: 0.2584485894730237\n",
            "Cost after iteration 5000: 0.03731366258245904\n",
            "Cost after iteration 7500: 0.02129559915983673\n",
            "Cost after iteration 10000: 0.0145787926003769\n",
            "Cost after iteration 12500: 0.011551793616225022\n",
            "Cost after iteration 15000: 0.009579186935382589\n",
            "Cost after iteration 17500: 0.008333213317573222\n",
            "Cost after iteration 20000: 0.00736778104142199\n",
            "Cost after iteration 22500: 0.006614307699169803\n",
            "Cost after iteration 25000: 0.005967684215691046\n",
            "Cost after iteration 27500: 0.005417185581175459\n",
            "Cost after iteration 30000: 0.0049476419021389165\n",
            "Cost after iteration 32500: 0.004540363381924966\n",
            "Cost after iteration 35000: 0.004180713064268867\n",
            "Cost after iteration 37500: 0.003856341128094713\n",
            "Cost after iteration 40000: 0.003577651748348859\n",
            "Cost after iteration 42500: 0.0033055888952829887\n",
            "Cost after iteration 45000: 0.003069596648973727\n",
            "Cost after iteration 47500: 0.0028636710957574848\n",
            "Cost after iteration 49999: 0.0026812260038390242\n"
          ]
        }
      ]
    },
    {
      "cell_type": "code",
      "source": [
        "accuracy, _ = my_NN.test(X=test_X, Y=test_Y)\n",
        "print(f\"Cost = {costs[-1]} ]t Accuracy = {accuracy}\")"
      ],
      "metadata": {
        "colab": {
          "base_uri": "https://localhost:8080/"
        },
        "id": "lXwecJ1oCxUv",
        "outputId": "2f709949-0e4b-470b-a567-8ec9d6582021"
      },
      "execution_count": 14,
      "outputs": [
        {
          "output_type": "stream",
          "name": "stdout",
          "text": [
            "Cost = 0.002689256424494676 ]t Accuracy = 0.96\n"
          ]
        }
      ]
    },
    {
      "cell_type": "code",
      "source": [
        ""
      ],
      "metadata": {
        "id": "gcrqQEqW_uow"
      },
      "execution_count": 8,
      "outputs": []
    },
    {
      "cell_type": "markdown",
      "metadata": {
        "id": "u4vhaq5A1Q-e"
      },
      "source": [
        "<a name='2'></a>\n",
        "## 2 - Loading the Dataset"
      ]
    },
    {
      "cell_type": "markdown",
      "source": [
        ""
      ],
      "metadata": {
        "id": "-1dG1I0mCAlp"
      }
    },
    {
      "cell_type": "markdown",
      "metadata": {
        "id": "ZFnl3lf41Q-i"
      },
      "source": [
        "<a name='3'></a>\n",
        "## 3 - Exercise #1\n",
        "\n",
        "At this point we don't have any indication of how a deep NN will work on this problem. Major parameters, such as the # of layers, and the size of each layer are not understood.\n",
        "We will assume the NN has 3 hidden layers and we will try different layer sizes starting from 2 units per layer and growing as a factor of 2 until reaching 64."
      ]
    },
    {
      "cell_type": "code",
      "source": [
        ""
      ],
      "metadata": {
        "id": "YjnN0cZPIcKZ"
      },
      "execution_count": 8,
      "outputs": []
    },
    {
      "cell_type": "code",
      "source": [
        ""
      ],
      "metadata": {
        "id": "E1sXXkBUIcPq"
      },
      "execution_count": 8,
      "outputs": []
    },
    {
      "cell_type": "code",
      "source": [
        ""
      ],
      "metadata": {
        "id": "usBATbSAIcSY"
      },
      "execution_count": 8,
      "outputs": []
    },
    {
      "cell_type": "code",
      "source": [
        ""
      ],
      "metadata": {
        "id": "PBeqMdQkIcVE"
      },
      "execution_count": 8,
      "outputs": []
    },
    {
      "cell_type": "code",
      "source": [
        ""
      ],
      "metadata": {
        "id": "RqdAlLqwIcXj"
      },
      "execution_count": 8,
      "outputs": []
    },
    {
      "cell_type": "code",
      "source": [
        ""
      ],
      "metadata": {
        "id": "e57DwCN_IcaV"
      },
      "execution_count": 8,
      "outputs": []
    },
    {
      "cell_type": "code",
      "source": [
        ""
      ],
      "metadata": {
        "id": "bFVyG9_4Iccv"
      },
      "execution_count": 8,
      "outputs": []
    },
    {
      "cell_type": "code",
      "source": [
        ""
      ],
      "metadata": {
        "id": "5ZQHXnCaIcfk"
      },
      "execution_count": 8,
      "outputs": []
    },
    {
      "cell_type": "code",
      "source": [
        ""
      ],
      "metadata": {
        "id": "y_9pimWYIciJ"
      },
      "execution_count": 8,
      "outputs": []
    },
    {
      "cell_type": "code",
      "source": [
        ""
      ],
      "metadata": {
        "id": "OuBL7fYKIckf"
      },
      "execution_count": 8,
      "outputs": []
    }
  ],
  "metadata": {
    "coursera": {
      "course_slug": "deep-neural-network",
      "graded_item_id": "XOESP",
      "launcher_item_id": "8IhFN"
    },
    "kernelspec": {
      "display_name": "Python 3",
      "language": "python",
      "name": "python3"
    },
    "language_info": {
      "codemirror_mode": {
        "name": "ipython",
        "version": 3
      },
      "file_extension": ".py",
      "mimetype": "text/x-python",
      "name": "python",
      "nbconvert_exporter": "python",
      "pygments_lexer": "ipython3",
      "version": "3.7.6"
    },
    "colab": {
      "name": "Deep_Neural_Networks-Basic.ipynb",
      "provenance": [],
      "collapsed_sections": [],
      "include_colab_link": true
    }
  },
  "nbformat": 4,
  "nbformat_minor": 0
}